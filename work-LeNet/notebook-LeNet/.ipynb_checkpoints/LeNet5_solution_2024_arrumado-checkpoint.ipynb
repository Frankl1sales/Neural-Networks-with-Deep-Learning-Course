{
 "cells": [
  {
   "cell_type": "markdown",
   "metadata": {
    "id": "iafPdtuncbq7"
   },
   "source": [
    "<h2><center>MNIST classification using <i>LeNet5</i></center></h2>"
   ]
  },
  {
   "cell_type": "markdown",
   "metadata": {
    "id": "I4VrCB5La5rD"
   },
   "source": [
    "# Importing Keras"
   ]
  },
  {
   "cell_type": "code",
   "execution_count": 1,
   "metadata": {
    "colab": {
     "base_uri": "https://localhost:8080/"
    },
    "id": "OlKZ3Hnas7B4",
    "outputId": "f55521fc-5970-4e03-cb0e-13b513ad3c6b"
   },
   "outputs": [
    {
     "name": "stdout",
     "output_type": "stream",
     "text": [
      "Using tensorflow version 2.4.1\n"
     ]
    }
   ],
   "source": [
    "# Importing the Keras main module forcing tensorflow 1.x backend\n",
    "import tensorflow as tf\n",
    "#import keras\n",
    "print(\"Using tensorflow version \" + str(tf.__version__))\n",
    "#print(\"Using keras version \" + str(keras.__version__))"
   ]
  },
  {
   "cell_type": "markdown",
   "metadata": {
    "id": "s_QLz9_jbRZq"
   },
   "source": [
    "# Loading and preparing the MNIST dataset"
   ]
  },
  {
   "cell_type": "code",
   "execution_count": 2,
   "metadata": {
    "colab": {
     "base_uri": "https://localhost:8080/"
    },
    "id": "gG83hGyVmijn",
    "outputId": "d8e02bce-a737-4d90-bce4-6711c78c3990"
   },
   "outputs": [
    {
     "name": "stdout",
     "output_type": "stream",
     "text": [
      "(60000, 28, 28)\n",
      "(10000, 28, 28)\n",
      "(60000,)\n",
      "(10000,)\n"
     ]
    }
   ],
   "source": [
    "#@title\n",
    "# The MNSIT dataset is ready to be imported from Keras into RAM\n",
    "# Warning: you cannot do that for larger databases (e.g., ImageNet)\n",
    "#from keras.datasets import mnist\n",
    "from tensorflow.keras.datasets import mnist\n",
    "(train_images, train_labels), (test_images, test_labels) = mnist.load_data()\n",
    "print(train_images.shape)\n",
    "print(test_images.shape)\n",
    "print(train_labels.shape)\n",
    "print(test_labels.shape)\n",
    "#!free -h"
   ]
  },
  {
   "cell_type": "code",
   "execution_count": 3,
   "metadata": {
    "colab": {
     "base_uri": "https://localhost:8080/",
     "height": 465
    },
    "id": "x5VAu7oW0Zu4",
    "outputId": "a5373fee-54a8-4bd6-eed1-a4a7329ed7b8"
   },
   "outputs": [
    {
     "name": "stdout",
     "output_type": "stream",
     "text": [
      "Label for 0-th train image is: 5\n"
     ]
    },
    {
     "data": {
      "text/plain": [
       "<matplotlib.image.AxesImage at 0x7fe4437f0a60>"
      ]
     },
     "execution_count": 3,
     "metadata": {},
     "output_type": "execute_result"
    },
    {
     "data": {
      "image/png": "[encoded data removed]",
      "text/plain": [
       "<Figure size 640x480 with 1 Axes>"
      ]
     },
     "metadata": {},
     "output_type": "display_data"
    }
   ],
   "source": [
    "# Let us visualize the first training sample using the Gnuplot library\n",
    "from matplotlib import pyplot as plt\n",
    "imageIndex = 0\n",
    "print(\"Label for \" + str(imageIndex) + \"-th train image is: \" + str(train_labels[0]))\n",
    "plt.imshow(train_images[0])"
   ]
  },
  {
   "cell_type": "code",
   "execution_count": 4,
   "metadata": {
    "colab": {
     "base_uri": "https://localhost:8080/"
    },
    "id": "lQbkllF8mnaf",
    "outputId": "b43bfaf0-4460-4b3f-d5d6-c54a41d7dc3c"
   },
   "outputs": [
    {
     "name": "stdout",
     "output_type": "stream",
     "text": [
      "This is the native 0-th train label: 5\n",
      "This is the one-hot encoding of the 0-th train label: [0. 0. 0. 0. 0. 1. 0. 0. 0. 0.]\n"
     ]
    }
   ],
   "source": [
    "# Do you remember about one-hot encoding ?\n",
    "#from keras.utils.np_utils import to_categorical\n",
    "import copy\n",
    "\n",
    "ori_test_labels=copy.deepcopy(test_labels)\n",
    "\n",
    "from tensorflow.keras.utils import to_categorical\n",
    "imageIndex = 0\n",
    "print(\"This is the native \" + str(imageIndex) + \"-th train label: \" + str(train_labels[0]))\n",
    "train_labels = to_categorical(train_labels)\n",
    "print(\"This is the one-hot encoding of the \" + str(imageIndex) + \"-th train label: \" + str(train_labels[0]))\n",
    "test_labels = to_categorical(test_labels)"
   ]
  },
  {
   "cell_type": "code",
   "execution_count": 5,
   "metadata": {
    "colab": {
     "base_uri": "https://localhost:8080/"
    },
    "id": "ptTRSDo5nJyZ",
    "outputId": "9d8f16b1-a2c8-47aa-acce-06b9033103b3"
   },
   "outputs": [
    {
     "name": "stdout",
     "output_type": "stream",
     "text": [
      "train_images shape: (60000, 28, 28, 1)\n",
      "test_images shape: (10000, 28, 28, 1)\n",
      "60000 train samples\n",
      "10000 test samples\n"
     ]
    }
   ],
   "source": [
    "# Reshape to proper images with 1 color channel according to backend scheme\n",
    "img_rows, img_cols = train_images.shape[1], train_images.shape[2]\n",
    "train_images = train_images.reshape(train_images.shape[0], img_rows, img_cols, 1)\n",
    "test_images = test_images.reshape(test_images.shape[0], img_rows, img_cols,1 )\n",
    "print('train_images shape:', train_images.shape)\n",
    "print('test_images shape:', test_images.shape)\n",
    "print(train_images.shape[0], 'train samples')\n",
    "print(test_images.shape[0], 'test samples')\n",
    "\n",
    "\n",
    "# Normalize the images so that have zero mean and unitary deviation wrt the train set\n",
    "train_mean = train_images.mean()\n",
    "train_std = train_images.std()\n",
    "\n",
    "train_images = (train_images - train_mean)/train_std\n",
    "test_images = (test_images - train_mean)/train_std\n",
    "\n",
    "# Alternatively, we could normalize the image in the [0-1] range instead\n",
    "#train_images = ((train_images / 255) * 2) -1\n",
    "#test_images = ((test_images / 255) * 2) -1\n",
    "\n",
    "#from tensorflow import convert_to_tensor\n",
    "#train_images=convert_to_tensor(train_images, dtype=tf.int64)\n",
    "#train_labels=convert_to_tensor(train_labels, dtype=tf.int64)\n",
    "\n"
   ]
  },
  {
   "cell_type": "markdown",
   "metadata": {
    "id": "uwm1OFOtc4uU"
   },
   "source": [
    "# Defining the neural network architecture (i.e., the network model)\n",
    "Create a LeNet5-like convolutional neural network taking in input the images as matrices of pixels and suitable to classify each image across 10 different classes."
   ]
  },
  {
   "cell_type": "code",
   "execution_count": 6,
   "metadata": {
    "colab": {
     "base_uri": "https://localhost:8080/"
    },
    "id": "Pnd3q1V3nk8v",
    "outputId": "b722b803-6d3f-44f4-ca89-8c465e94f92e"
   },
   "outputs": [
    {
     "name": "stderr",
     "output_type": "stream",
     "text": [
      "2024-08-27 08:17:10.743093: I tensorflow/compiler/jit/xla_cpu_device.cc:41] Not creating XLA devices, tf_xla_enable_xla_devices not set\n",
      "2024-08-27 08:17:10.743373: I tensorflow/core/platform/cpu_feature_guard.cc:142] This TensorFlow binary is optimized with oneAPI Deep Neural Network Library (oneDNN) to use the following CPU instructions in performance-critical operations:  SSE4.1 SSE4.2 AVX AVX2 FMA\n",
      "To enable them in other operations, rebuild TensorFlow with the appropriate compiler flags.\n",
      "2024-08-27 08:17:10.745058: I tensorflow/core/common_runtime/process_util.cc:146] Creating new thread pool with default inter op setting: 2. Tune using inter_op_parallelism_threads for best performance.\n"
     ]
    }
   ],
   "source": [
    "# The Sequential module is sort of a container for more complex NN elements and\n",
    "# defines a loop-less NN architecture\n",
    "#from keras.models import Sequential\n",
    "#from keras.layers import Dense, Activation, Flatten\n",
    "#from keras.layers import Convolution2D, MaxPooling2D\n",
    "#from tensorflow.keras import layers\n",
    "\n",
    "\n",
    "from tensorflow.keras import Sequential, Model\n",
    "from tensorflow.keras.layers import Dense, Activation, Flatten\n",
    "from tensorflow.keras.layers import MaxPooling2D, Conv2D\n",
    "\n",
    "\n",
    "input_shape = (img_rows, img_cols, 1)\n",
    "\n",
    "# size of pooling area for max pooling\n",
    "pool_size = (2, 2)\n",
    "# convolution kernel size\n",
    "kernel_size = (5, 5)\n",
    "# Number of filters in first convolutional layer\n",
    "num_kernel_first_conv_layer = 6\n",
    "# Number of filters in second convolutional layer\n",
    "num_kernel_second_conv_layer = 16\n",
    "\n",
    "model = Sequential()\n",
    "\n",
    "# First convolutional layer\n",
    "#model.add(Convolution2D(num_kernel_first_conv_layer, (kernel_size[0], kernel_size[1]), input_shape=input_shape, padding='same'))\n",
    "model.add(Conv2D(num_kernel_first_conv_layer, (kernel_size[0], kernel_size[1]), input_shape=input_shape, padding='same'))\n",
    "model.add(Activation('sigmoid'))\n",
    "model.add(MaxPooling2D(pool_size=pool_size))\n",
    "\n",
    "# Second convolutional layer\n",
    "#model.add(Convolution2D(num_kernel_second_conv_layer, (kernel_size[0], kernel_size[1]), padding='same'))\n",
    "model.add(Conv2D(num_kernel_second_conv_layer, (kernel_size[0], kernel_size[1]), padding='same'))\n",
    "model.add(Activation('sigmoid'))\n",
    "model.add(MaxPooling2D(pool_size=pool_size))\n",
    "\n",
    "# Turns the sequence of featuremaps into a linear array of features\n",
    "model.add(Flatten())\n",
    "\n",
    "# Simplified LeNet5 configuration\n",
    "model.add(Dense(100))\n",
    "model.add(Activation('sigmoid'))\n",
    "\n",
    "model.add(Dense(10))\n",
    "model.add(Activation('softmax'))"
   ]
  },
  {
   "cell_type": "markdown",
   "metadata": {
    "id": "-_F7zfhY9NJw"
   },
   "source": [
    "Instantiate a SGD optimizer with a tentative LR of 10^-2 and using the appropriate loss function and compile the model."
   ]
  },
  {
   "cell_type": "code",
   "execution_count": 7,
   "metadata": {
    "colab": {
     "base_uri": "https://localhost:8080/",
     "height": 481
    },
    "id": "PoecwIXr9PZf",
    "outputId": "42df804c-f8df-446f-cb99-2fc02c089ae4"
   },
   "outputs": [
    {
     "name": "stdout",
     "output_type": "stream",
     "text": [
      "Model: \"sequential\"\n",
      "_________________________________________________________________\n",
      "Layer (type)                 Output Shape              Param #   \n",
      "=================================================================\n",
      "conv2d (Conv2D)              (None, 28, 28, 6)         156       \n",
      "_________________________________________________________________\n",
      "activation (Activation)      (None, 28, 28, 6)         0         \n",
      "_________________________________________________________________\n",
      "max_pooling2d (MaxPooling2D) (None, 14, 14, 6)         0         \n",
      "_________________________________________________________________\n",
      "conv2d_1 (Conv2D)            (None, 14, 14, 16)        2416      \n",
      "_________________________________________________________________\n",
      "activation_1 (Activation)    (None, 14, 14, 16)        0         \n",
      "_________________________________________________________________\n",
      "max_pooling2d_1 (MaxPooling2 (None, 7, 7, 16)          0         \n",
      "_________________________________________________________________\n",
      "flatten (Flatten)            (None, 784)               0         \n",
      "_________________________________________________________________\n",
      "dense (Dense)                (None, 100)               78500     \n",
      "_________________________________________________________________\n",
      "activation_2 (Activation)    (None, 100)               0         \n",
      "_________________________________________________________________\n",
      "dense_1 (Dense)              (None, 10)                1010      \n",
      "_________________________________________________________________\n",
      "activation_3 (Activation)    (None, 10)                0         \n",
      "=================================================================\n",
      "Total params: 82,082\n",
      "Trainable params: 82,082\n",
      "Non-trainable params: 0\n",
      "_________________________________________________________________\n"
     ]
    }
   ],
   "source": [
    "# The optimizers module provides a number of optimization algorithms for updating\n",
    "# a netwok parameters accoridng to the computed error gradints\n",
    "#from keras import optimizers\n",
    "from tensorflow.keras import optimizers\n",
    "\n",
    "# Defining our optimizer\n",
    "optimizer=tf.optimizers.SGD(learning_rate=1e-2)\n",
    "\n",
    "model.compile(loss='categorical_crossentropy',\n",
    "              optimizer=optimizer,\n",
    "              metrics=['accuracy'])\n",
    "\n",
    "# Let us have a look at the model topology\n",
    "model.summary()"
   ]
  },
  {
   "cell_type": "markdown",
   "metadata": {
    "id": "_AWUAW4idF3D"
   },
   "source": [
    "# Training the network"
   ]
  },
  {
   "cell_type": "code",
   "execution_count": null,
   "metadata": {
    "colab": {
     "base_uri": "https://localhost:8080/"
    },
    "id": "X8evi8ZN9tcb",
    "outputId": "fc53306a-cede-4410-b8e5-871a4c489eca"
   },
   "outputs": [
    {
     "name": "stdout",
     "output_type": "stream",
     "text": [
      "937\n"
     ]
    },
    {
     "name": "stderr",
     "output_type": "stream",
     "text": [
      "2024-08-27 08:17:11.167546: I tensorflow/compiler/mlir/mlir_graph_optimization_pass.cc:116] None of the MLIR optimization passes are enabled (registered 2)\n",
      "2024-08-27 08:17:11.167895: I tensorflow/core/platform/profile_utils/cpu_utils.cc:112] CPU Frequency: 2599990000 Hz\n"
     ]
    },
    {
     "name": "stdout",
     "output_type": "stream",
     "text": [
      "Epoch 1/20\n",
      "937/937 [==============================] - 336s 357ms/step - loss: 2.3116 - accuracy: 0.1071 - val_loss: 2.3003 - val_accuracy: 0.1135\n",
      "Epoch 2/20\n",
      "937/937 [==============================] - 320s 342ms/step - loss: 2.2989 - accuracy: 0.1178 - val_loss: 2.2967 - val_accuracy: 0.1108\n",
      "Epoch 3/20\n",
      "937/937 [==============================] - 376s 401ms/step - loss: 2.2924 - accuracy: 0.1292 - val_loss: 2.2895 - val_accuracy: 0.1466\n",
      "Epoch 4/20\n",
      "937/937 [==============================] - 324s 346ms/step - loss: 2.2732 - accuracy: 0.1849 - val_loss: 2.2619 - val_accuracy: 0.2067\n",
      "Epoch 5/20\n",
      "937/937 [==============================] - 281s 299ms/step - loss: 2.1955 - accuracy: 0.3946 - val_loss: 2.1139 - val_accuracy: 0.3187\n",
      "Epoch 6/20\n",
      "937/937 [==============================] - 304s 325ms/step - loss: 1.8801 - accuracy: 0.5487 - val_loss: 1.9016 - val_accuracy: 0.3867\n",
      "Epoch 7/20\n",
      "937/937 [==============================] - 290s 310ms/step - loss: 1.3841 - accuracy: 0.6551 - val_loss: 1.7699 - val_accuracy: 0.4190\n",
      "Epoch 8/20\n",
      "937/937 [==============================] - 284s 303ms/step - loss: 1.0541 - accuracy: 0.7212 - val_loss: 1.7019 - val_accuracy: 0.4548\n",
      "Epoch 9/20\n",
      "937/937 [==============================] - 317s 338ms/step - loss: 0.8761 - accuracy: 0.7573 - val_loss: 1.6963 - val_accuracy: 0.4618\n",
      "Epoch 10/20\n",
      "937/937 [==============================] - 344s 367ms/step - loss: 0.7638 - accuracy: 0.7851 - val_loss: 1.6908 - val_accuracy: 0.4810\n",
      "Epoch 11/20\n",
      "937/937 [==============================] - 302s 323ms/step - loss: 0.6796 - accuracy: 0.8073 - val_loss: 1.6696 - val_accuracy: 0.5036\n",
      "Epoch 12/20\n",
      "937/937 [==============================] - 351s 374ms/step - loss: 0.6199 - accuracy: 0.8230 - val_loss: 1.7235 - val_accuracy: 0.4960\n",
      "Epoch 13/20\n",
      "937/937 [==============================] - 374s 398ms/step - loss: 0.5613 - accuracy: 0.8383 - val_loss: 1.8039 - val_accuracy: 0.4903\n",
      "Epoch 14/20\n",
      "937/937 [==============================] - 373s 398ms/step - loss: 0.5189 - accuracy: 0.8536 - val_loss: 1.6828 - val_accuracy: 0.5172\n",
      "Epoch 15/20\n",
      "937/937 [==============================] - 312s 332ms/step - loss: 0.4888 - accuracy: 0.8584 - val_loss: 1.7416 - val_accuracy: 0.5091\n",
      "Epoch 16/20\n",
      "937/937 [==============================] - 281s 300ms/step - loss: 0.4530 - accuracy: 0.8690 - val_loss: 1.7506 - val_accuracy: 0.5213\n",
      "Epoch 17/20\n",
      "937/937 [==============================] - 1959s 2s/step - loss: 0.4278 - accuracy: 0.8772 - val_loss: 1.6999 - val_accuracy: 0.5349\n",
      "Epoch 18/20\n",
      "851/937 [==========================>...] - ETA: 30s - loss: 0.4010 - accuracy: 0.8835"
     ]
    }
   ],
   "source": [
    "#Doing data augmentation with ImagDataGenerator\n",
    "from tensorflow.keras.preprocessing.image import ImageDataGenerator\n",
    "\n",
    "# Definir os parâmetros\n",
    "BATCH_SIZE = 64\n",
    "EPOCHS = 20\n",
    "\n",
    "augmenter = ImageDataGenerator(\n",
    "    rotation_range=10, # Rotating randomly the images up to 25°\n",
    "    width_shift_range=0.05, # Moving the images from left to right\n",
    "    height_shift_range=0.05, # Then from top to bottom\n",
    "    shear_range=0.10,\n",
    "    zoom_range=0.05, # Zooming randomly up to 20%\n",
    "    zca_whitening=False,\n",
    "    horizontal_flip=False,\n",
    "    vertical_flip=False,\n",
    "    fill_mode = 'nearest')\n",
    "\n",
    "\n",
    "print(len(train_images)//BATCH_SIZE)\n",
    "\n",
    "# Creating a data generator to augment the training images\n",
    "train_generator = augmenter.flow(train_images, train_labels, batch_size=BATCH_SIZE)\n",
    "\n",
    "batch_history =model.fit(train_generator, steps_per_epoch=(len(train_images)//BATCH_SIZE),\n",
    "                         validation_data=(test_images, test_labels),epochs=EPOCHS)\n",
    "\n",
    "result = model.evaluate(test_images, test_labels)"
   ]
  },
  {
   "cell_type": "code",
   "execution_count": null,
   "metadata": {
    "colab": {
     "base_uri": "https://localhost:8080/",
     "height": 891
    },
    "id": "eNhBimFB7O-K",
    "outputId": "6e3b0157-e22a-4eb9-c318-90b34ef799e9"
   },
   "outputs": [],
   "source": [
    "# We now want to plot the train and validation loss functions and accuracy curves\n",
    "#print(history.history.keys())\n",
    "\n",
    "print(f'Test accuracy: {result[1]}')\n",
    "\n",
    "\n",
    "# Plot the loss function and accuracy\n",
    "fig, axs = plt.subplots(2, 1, figsize=(10, 10))\n",
    "\n",
    "# Loss\n",
    "axs[0].plot(batch_history.history['loss'], label='Perda de Treinamento')\n",
    "axs[0].plot(batch_history.history['val_loss'], label='Perda de Validação')\n",
    "axs[0].set_title('Função de Perda/ Model Loss')\n",
    "axs[0].set_xlabel('Épocas/Epoch')\n",
    "axs[0].set_ylabel('Perda/Loss')\n",
    "axs[0].legend(['train', 'test'], loc='upper right')\n",
    "\n",
    "# Accuracy\n",
    "axs[1].plot(batch_history.history['accuracy'], label='Acurácia de Treinamento')\n",
    "axs[1].plot(batch_history.history['val_accuracy'], label='Acurácia de Validação')\n",
    "axs[1].set_title('Acurácia/Accuracy')\n",
    "axs[1].set_xlabel('Épocas/Epoch')\n",
    "axs[1].set_ylabel('Acurácia/Accuracy')\n",
    "axs[1].legend(['train', 'test'], loc='lower right')\n",
    "\n",
    "plt.show()"
   ]
  },
  {
   "cell_type": "markdown",
   "metadata": {
    "id": "ODUc5Bq_dMEq"
   },
   "source": [
    "# Visualizing the network performance"
   ]
  },
  {
   "cell_type": "code",
   "execution_count": null,
   "metadata": {
    "colab": {
     "base_uri": "https://localhost:8080/",
     "height": 927
    },
    "id": "QdJrRbyariEw",
    "outputId": "48068e30-a0d7-4e6e-da0c-b159e70e594b"
   },
   "outputs": [],
   "source": [
    "# We now want to plot the train and validation loss functions and accuracy curves\n",
    "#print(history.history.keys())\n",
    "\n",
    "# summarize history for loss\n",
    "plt.plot(batch_history.history['loss'])\n",
    "plt.plot(batch_history.history['val_loss'])\n",
    "plt.title('model loss')\n",
    "plt.ylabel('loss')\n",
    "plt.xlabel('epoch')\n",
    "plt.legend(['train', 'test'], loc='upper right')\n",
    "plt.show()\n",
    "\n",
    "# summarize history for accuracy\n",
    "plt.plot(batch_history.history['accuracy'])\n",
    "plt.plot(batch_history.history['val_accuracy'])\n",
    "plt.title('model accuracy')\n",
    "plt.ylabel('accuracy')\n",
    "plt.xlabel('epoch')\n",
    "plt.legend(['train', 'test'], loc='lower right')\n",
    "plt.show()\n"
   ]
  },
  {
   "cell_type": "markdown",
   "metadata": {
    "id": "Nr4TdWoEoDzi"
   },
   "source": [
    "# Experiments\n",
    "\n",
    "Note down the performance of the trained network in terms of training and validation accuracy as a reference. Then, experiment as follow and compare performance with the reference scenario.\n",
    "\n",
    "*   **Filter size**: experiment with square filters of different size and compare performance with reference scenario.\n",
    "*   **Number of filters**: experiment increasing the number of filters in the first and second layer and find the maximum number of filters the network can tolerate before overfitting to the training samples.\n",
    "* **Padding**: experiment withnarrow and wide convolutions: what changes in terms of featuremap size ?\n",
    "*  **Pooling layers**: expeirment with different pooling layers (maxpooling and avgpooling): which one yield the best performance ?\n",
    "What happens if the pooling layers are removed altogether in terms of comlexity-performance tradeoff ?\n",
    "* **Pooling-less architectures**: Modify the network architecture to obtain a twofold reduction of each featuremap without resorting to pooling layers (hint: take insipiration from the ResNet architecture).\n",
    "* **Confusion analysis**: Using the proper metric  from sklearn, check which character is most frequently confused with which: can you explain why ?\n",
    "\n",
    "\n",
    "\n"
   ]
  },
  {
   "cell_type": "code",
   "execution_count": null,
   "metadata": {
    "colab": {
     "base_uri": "https://localhost:8080/"
    },
    "id": "r0C1J6R1Elfc",
    "outputId": "2470ca1e-48e3-4816-e873-0c6280a3ef24"
   },
   "outputs": [],
   "source": [
    "# Example of a confusion matrix using sklearn.metrics\n",
    "from sklearn.metrics import confusion_matrix\n",
    "predictions = model.predict(test_images)\n",
    "# Mind that confusion_matrix requires\n",
    "matrix = confusion_matrix(test_labels.argmax(axis=1), predictions.argmax(axis=1))\n",
    "print (matrix)"
   ]
  },
  {
   "cell_type": "markdown",
   "metadata": {
    "id": "3IOI6Tl1dS13"
   },
   "source": [
    "#Saving the training results\n",
    "\n",
    "Save the best trained model (topology, parameters), and all the related side information required to deploy the trained model later on.\n"
   ]
  },
  {
   "cell_type": "code",
   "execution_count": null,
   "metadata": {
    "colab": {
     "base_uri": "https://localhost:8080/"
    },
    "id": "M68i9PeDdZrG",
    "outputId": "cebadd26-d235-4f63-dc4a-97b6ecff6f67"
   },
   "outputs": [],
   "source": [
    "# Create a directory for saving both the trained model and side information\n",
    "import os\n",
    "save_dir = os.path.join(os.getcwd(), 'trained_lenet5_mnist')\n",
    "if not os.path.isdir(save_dir):\n",
    "    os.makedirs(save_dir)\n",
    "\n",
    "# Save model and weights\n",
    "\n",
    "model_name = 'model.keras'\n",
    "model_path = os.path.join(save_dir, model_name)\n",
    "model.save(model_path)\n",
    "print('Saved trained model at %s ' % model_path)\n",
    "\n",
    "# Saving mean and standard deviation information as a CSV file\n",
    "import csv\n",
    "model_name = 'std_dev.csv'\n",
    "model_path = os.path.join(save_dir, model_name)\n",
    "w = csv.writer(open(model_path, \"w\"))\n",
    "dict={}\n",
    "dict['mean'] = train_mean\n",
    "dict['std'] = train_std\n",
    "for key, val in dict.items():\n",
    "    w.writerow([key, val])\n",
    "print('Saved side information at %s ' % model_path)"
   ]
  },
  {
   "cell_type": "code",
   "execution_count": null,
   "metadata": {
    "colab": {
     "base_uri": "https://localhost:8080/",
     "height": 765
    },
    "id": "_tTTRlr4M5UI",
    "outputId": "c383d75b-9803-482b-be0b-c400de6acaee"
   },
   "outputs": [],
   "source": [
    "# Figure size\n",
    "import seaborn as sns\n",
    "import pandas as pd\n",
    "\n",
    "plt.figure(figsize=(10,5))\n",
    "\n",
    "datas = pd.DataFrame(ori_test_labels,columns=['label'])\n",
    "\n",
    "print(datas)\n",
    "print(ori_test_labels)\n",
    "\n",
    "# Countplot\n",
    "sns.countplot(x='label', data=datas)\n",
    "plt.title('Distribution of labels in training set')"
   ]
  }
 ],
 "metadata": {
  "accelerator": "GPU",
  "colab": {
   "gpuType": "T4",
   "provenance": []
  },
  "kernelspec": {
   "display_name": "Python 3 (ipykernel)",
   "language": "python",
   "name": "python3"
  },
  "language_info": {
   "codemirror_mode": {
    "name": "ipython",
    "version": 3
   },
   "file_extension": ".py",
   "mimetype": "text/x-python",
   "name": "python",
   "nbconvert_exporter": "python",
   "pygments_lexer": "ipython3",
   "version": "3.9.19"
  }
 },
 "nbformat": 4,
 "nbformat_minor": 4
}
