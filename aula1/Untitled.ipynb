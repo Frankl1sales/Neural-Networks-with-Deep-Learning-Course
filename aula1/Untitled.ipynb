{
 "cells": [
  {
   "cell_type": "code",
   "execution_count": 10,
   "id": "f6428b02-b5c7-4add-8601-64ddb1e00e86",
   "metadata": {},
   "outputs": [],
   "source": [
    "import tensorflow as tf\n",
    "from tensorflow.keras.utils import plot_model\n",
    "from tensorflow.keras.layers import Layer\n",
    "import numpy as np\n",
    "import pandas as pd\n",
    "from sklearn.model_selection import train_test_split\n",
    "from sklearn.preprocessing import StandardScaler\n",
    "from sklearn.metrics import accuracy_score\n",
    "import matplotlib.pyplot as plt"
   ]
  },
  {
   "cell_type": "markdown",
   "id": "bd041227-8aee-4796-aae0-139473ef7138",
   "metadata": {},
   "source": [
    "# Carregando os Dados\n",
    "\n",
    "Primeiro, carregamos os dados de um arquivo Excel (`.xls`). Vamos usar a biblioteca `pandas` para ler o arquivo e imprimir seu conteúdo.\n"
   ]
  },
  {
   "cell_type": "code",
   "execution_count": 11,
   "id": "7961abf1-d63b-41f8-bd3b-191ff57c3e50",
   "metadata": {},
   "outputs": [
    {
     "name": "stdout",
     "output_type": "stream",
     "text": [
      "        x1      x2       x3  d\n",
      "0  -0.6508  0.1097   4.0009 -1\n",
      "1  -1.4492  0.8896   4.4005 -1\n",
      "2   2.0850  0.6876  12.0710 -1\n",
      "3   0.2626  1.1476   7.7985  1\n",
      "4   0.6418  1.0234   7.0427  1\n",
      "5   0.2569  0.6730   8.3265 -1\n",
      "6   1.1155  0.6043   7.4446  1\n",
      "7   0.0914  0.3399   7.0677 -1\n",
      "8   0.0121  0.5256   4.6316  1\n",
      "9  -0.0429  0.4660   5.4323  1\n",
      "10  0.4340  0.6870   8.2287 -1\n",
      "11  0.2735  1.0287   7.1934  1\n",
      "12  0.4839  0.4851   7.4850 -1\n",
      "13  0.4089 -0.1267   5.5019 -1\n",
      "14  1.4391  0.1614   8.5843 -1\n",
      "15 -0.9115 -0.1973   2.1962 -1\n",
      "16  0.3654  1.0475   7.4858  1\n",
      "17  0.2144  0.7515   7.1699  1\n",
      "18  0.2013  1.0014   6.5489  1\n",
      "19  0.6483  0.2183   5.8991  1\n",
      "20 -0.1147  0.2242   7.2435 -1\n",
      "21 -0.7970  0.8795   3.8762  1\n",
      "22 -1.0625  0.6366   2.4707  1\n",
      "23  0.5307  0.1285   5.6883  1\n",
      "24 -1.2200  0.7777   1.7252  1\n",
      "25  0.3957  0.1076   5.6623 -1\n",
      "26 -0.1013  0.5989   7.1812 -1\n",
      "27  2.4482  0.9455  11.2095  1\n",
      "28  2.0149  0.6192  10.9263 -1\n",
      "29  0.2012  0.2611   5.4631  1\n"
     ]
    }
   ],
   "source": [
    "# Caminho do arquivo no Google Drive\n",
    "file_path = 'Tabela_Perceptron.xls'\n",
    "\n",
    "# Ler o arquivo XLS\n",
    "data_xls = pd.read_excel(file_path)\n",
    "print(data_xls.to_string())\n",
    "\n",
    "# Supondo que os dados tenham as colunas 'x1', 'x2', 'x3' e 'class'\n",
    "X = data_xls[['x1', 'x2', 'x3']].values\n",
    "y = data_xls['d'].values"
   ]
  },
  {
   "cell_type": "markdown",
   "id": "037fe753-b559-4f1c-9f1f-3334832097f7",
   "metadata": {},
   "source": [
    "# Dividindo os Dados em Treino e Teste\n",
    "\n",
    "Dividimos o dataset em conjuntos de treino e teste. Usamos `train_test_split` do `scikit-learn` para isso.\n"
   ]
  },
  {
   "cell_type": "code",
   "execution_count": 12,
   "id": "05107c9b-8c99-4893-9a0f-71e9c170f9b3",
   "metadata": {},
   "outputs": [],
   "source": [
    "# Dividir o dataset em treino e teste\n",
    "X_train, X_test, y_train, y_test = train_test_split(X, y, test_size=0.2, random_state=42)\n"
   ]
  },
  {
   "cell_type": "markdown",
   "id": "f99daa4f-88ca-4bc3-b82c-bd50f84a1386",
   "metadata": {},
   "source": [
    "# Padronizando os Dados\n",
    "\n",
    "Padronizamos os dados de treino e teste para garantir que todos tenham a mesma escala. Usamos `StandardScaler` para isso.\n"
   ]
  },
  {
   "cell_type": "code",
   "execution_count": 13,
   "id": "fcf8196b-683e-44bc-a854-9a2a537600ad",
   "metadata": {},
   "outputs": [],
   "source": [
    "# Padronizar os dados\n",
    "scaler = StandardScaler()\n",
    "X_train = scaler.fit_transform(X_train)\n",
    "X_test = scaler.transform(X_test)\n"
   ]
  },
  {
   "cell_type": "markdown",
   "id": "18f33308-4d88-424c-90c8-c98b293863cb",
   "metadata": {},
   "source": [
    "# Criando o Perceptron\n",
    "\n",
    "Criamos um modelo Perceptron usando a API `Sequential` do Keras. O modelo terá uma única camada densa com ativação `tanh` e usaremos a função de perda `hinge`.\n"
   ]
  },
  {
   "cell_type": "code",
   "execution_count": 14,
   "id": "4a9ee6b9-a402-4e98-bb29-e880c3f35e57",
   "metadata": {},
   "outputs": [],
   "source": [
    "def create_perceptron():\n",
    "    model = tf.keras.Sequential([\n",
    "        tf.keras.layers.Dense(1, input_shape=(X_train.shape[1],), activation='tanh') # Use tanh for sign activation\n",
    "    ])\n",
    "    model.compile(optimizer=tf.keras.optimizers.SGD(learning_rate=0.01), loss='hinge', metrics=['accuracy'])\n",
    "    return model\n"
   ]
  },
  {
   "cell_type": "markdown",
   "id": "8ae5d186-e304-45a9-a642-02f4d28d10fe",
   "metadata": {},
   "source": [
    "# Treinando o Modelo\n",
    "\n",
    "Treinamos o modelo várias vezes com diferentes inicializações de pesos e armazenamos os pesos e a acurácia de cada treino.\n"
   ]
  },
  {
   "cell_type": "code",
   "execution_count": 19,
   "id": "682c80a4-709c-400f-bbc3-095dd2e9f083",
   "metadata": {},
   "outputs": [
    {
     "name": "stdout",
     "output_type": "stream",
     "text": [
      "Epoch 1/100\n",
      "1/1 [==============================] - 0s 420ms/step - loss: 1.2183 - accuracy: 0.0417\n",
      "Epoch 2/100\n",
      "1/1 [==============================] - 0s 39ms/step - loss: 1.2166 - accuracy: 0.0417\n",
      "Epoch 3/100\n",
      "1/1 [==============================] - 0s 7ms/step - loss: 1.2148 - accuracy: 0.0417\n",
      "Epoch 4/100\n",
      "1/1 [==============================] - 0s 6ms/step - loss: 1.2131 - accuracy: 0.0417\n",
      "Epoch 5/100\n",
      "1/1 [==============================] - 0s 23ms/step - loss: 1.2114 - accuracy: 0.0417\n",
      "Epoch 6/100\n",
      "1/1 [==============================] - 0s 6ms/step - loss: 1.2097 - accuracy: 0.0417\n",
      "Epoch 7/100\n",
      "1/1 [==============================] - 0s 10ms/step - loss: 1.2080 - accuracy: 0.0833\n",
      "Epoch 8/100\n",
      "1/1 [==============================] - 0s 4ms/step - loss: 1.2063 - accuracy: 0.0833\n",
      "Epoch 9/100\n",
      "1/1 [==============================] - 0s 25ms/step - loss: 1.2046 - accuracy: 0.0833\n",
      "Epoch 10/100\n",
      "1/1 [==============================] - 0s 7ms/step - loss: 1.2030 - accuracy: 0.0833\n",
      "Epoch 11/100\n",
      "1/1 [==============================] - 0s 10ms/step - loss: 1.2013 - accuracy: 0.0833\n",
      "Epoch 12/100\n",
      "1/1 [==============================] - 0s 14ms/step - loss: 1.1997 - accuracy: 0.0833\n",
      "Epoch 13/100\n",
      "1/1 [==============================] - 0s 15ms/step - loss: 1.1980 - accuracy: 0.0833\n",
      "Epoch 14/100\n",
      "1/1 [==============================] - 0s 9ms/step - loss: 1.1964 - accuracy: 0.0833\n",
      "Epoch 15/100\n",
      "1/1 [==============================] - 0s 3ms/step - loss: 1.1948 - accuracy: 0.0833\n",
      "Epoch 16/100\n",
      "1/1 [==============================] - 0s 16ms/step - loss: 1.1932 - accuracy: 0.0833\n",
      "Epoch 17/100\n",
      "1/1 [==============================] - 0s 6ms/step - loss: 1.1916 - accuracy: 0.0833\n",
      "Epoch 18/100\n",
      "1/1 [==============================] - 0s 5ms/step - loss: 1.1900 - accuracy: 0.0833\n",
      "Epoch 19/100\n",
      "1/1 [==============================] - 0s 19ms/step - loss: 1.1884 - accuracy: 0.0833\n",
      "Epoch 20/100\n",
      "1/1 [==============================] - 0s 22ms/step - loss: 1.1868 - accuracy: 0.0833\n",
      "Epoch 21/100\n",
      "1/1 [==============================] - 0s 37ms/step - loss: 1.1853 - accuracy: 0.0833\n",
      "Epoch 22/100\n",
      "1/1 [==============================] - 0s 23ms/step - loss: 1.1837 - accuracy: 0.0833\n",
      "Epoch 23/100\n",
      "1/1 [==============================] - 0s 16ms/step - loss: 1.1822 - accuracy: 0.0833\n",
      "Epoch 24/100\n",
      "1/1 [==============================] - 0s 20ms/step - loss: 1.1806 - accuracy: 0.0833\n",
      "Epoch 25/100\n",
      "1/1 [==============================] - 0s 19ms/step - loss: 1.1791 - accuracy: 0.0833\n",
      "Epoch 26/100\n",
      "1/1 [==============================] - 0s 25ms/step - loss: 1.1776 - accuracy: 0.0833\n",
      "Epoch 27/100\n",
      "1/1 [==============================] - 0s 24ms/step - loss: 1.1761 - accuracy: 0.0833\n",
      "Epoch 28/100\n",
      "1/1 [==============================] - 0s 23ms/step - loss: 1.1746 - accuracy: 0.0833\n",
      "Epoch 29/100\n",
      "1/1 [==============================] - 0s 25ms/step - loss: 1.1731 - accuracy: 0.0833\n",
      "Epoch 30/100\n",
      "1/1 [==============================] - 0s 35ms/step - loss: 1.1716 - accuracy: 0.0833\n",
      "Epoch 31/100\n",
      "1/1 [==============================] - 0s 27ms/step - loss: 1.1701 - accuracy: 0.1250\n",
      "Epoch 32/100\n",
      "1/1 [==============================] - 0s 6ms/step - loss: 1.1686 - accuracy: 0.1250\n",
      "Epoch 33/100\n",
      "1/1 [==============================] - 0s 9ms/step - loss: 1.1671 - accuracy: 0.1250\n",
      "Epoch 34/100\n",
      "1/1 [==============================] - 0s 13ms/step - loss: 1.1657 - accuracy: 0.1250\n",
      "Epoch 35/100\n",
      "1/1 [==============================] - 0s 18ms/step - loss: 1.1642 - accuracy: 0.1250\n",
      "Epoch 36/100\n",
      "1/1 [==============================] - 0s 42ms/step - loss: 1.1628 - accuracy: 0.1250\n",
      "Epoch 37/100\n",
      "1/1 [==============================] - 0s 18ms/step - loss: 1.1613 - accuracy: 0.1250\n",
      "Epoch 38/100\n",
      "1/1 [==============================] - 0s 9ms/step - loss: 1.1599 - accuracy: 0.1250\n",
      "Epoch 39/100\n",
      "1/1 [==============================] - 0s 3ms/step - loss: 1.1584 - accuracy: 0.1250\n",
      "Epoch 40/100\n",
      "1/1 [==============================] - 0s 8ms/step - loss: 1.1570 - accuracy: 0.1250\n",
      "Epoch 41/100\n",
      "1/1 [==============================] - 0s 19ms/step - loss: 1.1556 - accuracy: 0.1250\n",
      "Epoch 42/100\n",
      "1/1 [==============================] - 0s 18ms/step - loss: 1.1542 - accuracy: 0.1250\n",
      "Epoch 43/100\n",
      "1/1 [==============================] - 0s 20ms/step - loss: 1.1528 - accuracy: 0.1250\n",
      "Epoch 44/100\n",
      "1/1 [==============================] - 0s 17ms/step - loss: 1.1514 - accuracy: 0.1250\n",
      "Epoch 45/100\n",
      "1/1 [==============================] - 0s 28ms/step - loss: 1.1500 - accuracy: 0.1250\n",
      "Epoch 46/100\n",
      "1/1 [==============================] - 0s 23ms/step - loss: 1.1486 - accuracy: 0.1250\n",
      "Epoch 47/100\n",
      "1/1 [==============================] - 0s 47ms/step - loss: 1.1472 - accuracy: 0.1250\n",
      "Epoch 48/100\n",
      "1/1 [==============================] - 0s 23ms/step - loss: 1.1458 - accuracy: 0.1250\n",
      "Epoch 49/100\n",
      "1/1 [==============================] - 0s 15ms/step - loss: 1.1444 - accuracy: 0.1250\n",
      "Epoch 50/100\n",
      "1/1 [==============================] - 0s 19ms/step - loss: 1.1431 - accuracy: 0.1250\n",
      "Epoch 51/100\n",
      "1/1 [==============================] - 0s 23ms/step - loss: 1.1417 - accuracy: 0.1250\n",
      "Epoch 52/100\n",
      "1/1 [==============================] - 0s 22ms/step - loss: 1.1404 - accuracy: 0.1250\n",
      "Epoch 53/100\n",
      "1/1 [==============================] - 0s 14ms/step - loss: 1.1390 - accuracy: 0.1250\n",
      "Epoch 54/100\n",
      "1/1 [==============================] - 0s 24ms/step - loss: 1.1377 - accuracy: 0.1250\n",
      "Epoch 55/100\n",
      "1/1 [==============================] - 0s 21ms/step - loss: 1.1363 - accuracy: 0.1250\n",
      "Epoch 56/100\n",
      "1/1 [==============================] - 0s 14ms/step - loss: 1.1350 - accuracy: 0.1250\n",
      "Epoch 57/100\n",
      "1/1 [==============================] - 0s 4ms/step - loss: 1.1336 - accuracy: 0.1250\n",
      "Epoch 58/100\n",
      "1/1 [==============================] - 0s 8ms/step - loss: 1.1323 - accuracy: 0.1250\n",
      "Epoch 59/100\n",
      "1/1 [==============================] - 0s 7ms/step - loss: 1.1310 - accuracy: 0.1250\n",
      "Epoch 60/100\n",
      "1/1 [==============================] - 0s 2ms/step - loss: 1.1297 - accuracy: 0.1250\n",
      "Epoch 61/100\n",
      "1/1 [==============================] - 0s 3ms/step - loss: 1.1283 - accuracy: 0.1250\n",
      "Epoch 62/100\n",
      "1/1 [==============================] - 0s 4ms/step - loss: 1.1270 - accuracy: 0.1250\n",
      "Epoch 63/100\n",
      "1/1 [==============================] - 0s 2ms/step - loss: 1.1257 - accuracy: 0.1250\n",
      "Epoch 64/100\n",
      "1/1 [==============================] - 0s 7ms/step - loss: 1.1244 - accuracy: 0.1250\n",
      "Epoch 65/100\n",
      "1/1 [==============================] - 0s 3ms/step - loss: 1.1231 - accuracy: 0.1250\n",
      "Epoch 66/100\n",
      "1/1 [==============================] - 0s 3ms/step - loss: 1.1218 - accuracy: 0.1250\n",
      "Epoch 67/100\n",
      "1/1 [==============================] - 0s 6ms/step - loss: 1.1205 - accuracy: 0.1250\n",
      "Epoch 68/100\n",
      "1/1 [==============================] - 0s 9ms/step - loss: 1.1192 - accuracy: 0.1250\n",
      "Epoch 69/100\n",
      "1/1 [==============================] - 0s 6ms/step - loss: 1.1179 - accuracy: 0.1250\n",
      "Epoch 70/100\n",
      "1/1 [==============================] - 0s 4ms/step - loss: 1.1166 - accuracy: 0.1250\n",
      "Epoch 71/100\n",
      "1/1 [==============================] - 0s 2ms/step - loss: 1.1153 - accuracy: 0.0833\n",
      "Epoch 72/100\n",
      "1/1 [==============================] - 0s 3ms/step - loss: 1.1140 - accuracy: 0.0833\n",
      "Epoch 73/100\n",
      "1/1 [==============================] - 0s 6ms/step - loss: 1.1128 - accuracy: 0.0833\n",
      "Epoch 74/100\n",
      "1/1 [==============================] - 0s 3ms/step - loss: 1.1115 - accuracy: 0.0833\n",
      "Epoch 75/100\n",
      "1/1 [==============================] - 0s 2ms/step - loss: 1.1102 - accuracy: 0.0833\n",
      "Epoch 76/100\n",
      "1/1 [==============================] - 0s 8ms/step - loss: 1.1089 - accuracy: 0.0833\n",
      "Epoch 77/100\n",
      "1/1 [==============================] - 0s 4ms/step - loss: 1.1077 - accuracy: 0.0833\n",
      "Epoch 78/100\n",
      "1/1 [==============================] - 0s 5ms/step - loss: 1.1064 - accuracy: 0.0833\n",
      "Epoch 79/100\n",
      "1/1 [==============================] - 0s 4ms/step - loss: 1.1051 - accuracy: 0.0833\n",
      "Epoch 80/100\n",
      "1/1 [==============================] - 0s 9ms/step - loss: 1.1039 - accuracy: 0.0833\n",
      "Epoch 81/100\n",
      "1/1 [==============================] - 0s 6ms/step - loss: 1.1026 - accuracy: 0.0833\n",
      "Epoch 82/100\n",
      "1/1 [==============================] - 0s 8ms/step - loss: 1.1014 - accuracy: 0.0833\n",
      "Epoch 83/100\n",
      "1/1 [==============================] - 0s 4ms/step - loss: 1.1001 - accuracy: 0.0833\n",
      "Epoch 84/100\n",
      "1/1 [==============================] - 0s 2ms/step - loss: 1.0988 - accuracy: 0.0833\n",
      "Epoch 85/100\n",
      "1/1 [==============================] - 0s 11ms/step - loss: 1.0976 - accuracy: 0.0833\n",
      "Epoch 86/100\n",
      "1/1 [==============================] - 0s 5ms/step - loss: 1.0963 - accuracy: 0.0833\n",
      "Epoch 87/100\n",
      "1/1 [==============================] - 0s 2ms/step - loss: 1.0951 - accuracy: 0.0833\n",
      "Epoch 88/100\n",
      "1/1 [==============================] - 0s 8ms/step - loss: 1.0938 - accuracy: 0.0833\n",
      "Epoch 89/100\n",
      "1/1 [==============================] - 0s 3ms/step - loss: 1.0926 - accuracy: 0.0833\n",
      "Epoch 90/100\n",
      "1/1 [==============================] - 0s 9ms/step - loss: 1.0913 - accuracy: 0.0833\n",
      "Epoch 91/100\n",
      "1/1 [==============================] - 0s 4ms/step - loss: 1.0901 - accuracy: 0.0833\n",
      "Epoch 92/100\n",
      "1/1 [==============================] - 0s 2ms/step - loss: 1.0888 - accuracy: 0.0833\n",
      "Epoch 93/100\n",
      "1/1 [==============================] - 0s 4ms/step - loss: 1.0876 - accuracy: 0.0833\n",
      "Epoch 94/100\n",
      "1/1 [==============================] - 0s 3ms/step - loss: 1.0863 - accuracy: 0.0833\n",
      "Epoch 95/100\n",
      "1/1 [==============================] - 0s 3ms/step - loss: 1.0851 - accuracy: 0.0833\n",
      "Epoch 96/100\n",
      "1/1 [==============================] - 0s 2ms/step - loss: 1.0838 - accuracy: 0.0833\n",
      "Epoch 97/100\n",
      "1/1 [==============================] - 0s 3ms/step - loss: 1.0826 - accuracy: 0.0833\n",
      "Epoch 98/100\n",
      "1/1 [==============================] - 0s 2ms/step - loss: 1.0813 - accuracy: 0.0833\n",
      "Epoch 99/100\n",
      "1/1 [==============================] - 0s 3ms/step - loss: 1.0801 - accuracy: 0.0833\n",
      "Epoch 100/100\n",
      "1/1 [==============================] - 0s 2ms/step - loss: 1.0788 - accuracy: 0.0833\n",
      "WARNING:tensorflow:6 out of the last 8 calls to <function Model.make_predict_function.<locals>.predict_function at 0x725ba4145940> triggered tf.function retracing. Tracing is expensive and the excessive number of tracings could be due to (1) creating @tf.function repeatedly in a loop, (2) passing tensors with different shapes, (3) passing Python objects instead of tensors. For (1), please define your @tf.function outside of the loop. For (2), @tf.function has experimental_relax_shapes=True option that relaxes argument shapes that can avoid unnecessary retracing. For (3), please refer to https://www.tensorflow.org/guide/function#controlling_retracing and https://www.tensorflow.org/api_docs/python/tf/function for  more details.\n",
      "Treinamento 1: Accuracy: 50.00%\n"
     ]
    }
   ],
   "source": [
    "# Treinar o modelo cinco vezes com diferentes inicializações de pesos\n",
    "weights = []\n",
    "accuracies = []\n",
    "for i in range(1):\n",
    "    np.random.seed(i)  # Reiniciar o gerador de números aleatórios\n",
    "    tf.random.set_seed(i)\n",
    "\n",
    "    model = create_perceptron()\n",
    "    history = model.fit(X_train, y_train, epochs=100, verbose=1)\n",
    "    weights.append(model.get_weights())\n",
    "\n",
    "    # Avaliar a acurácia\n",
    "    y_pred = model.predict(X_test)\n",
    "    y_pred = np.where(y_pred >= 0, 1, -1)\n",
    "    accuracy = accuracy_score(y_test, y_pred)\n",
    "    accuracies.append(accuracy)\n",
    "    print(f\"Treinamento {i+1}: Accuracy: {accuracy * 100:.2f}%\")\n"
   ]
  },
  {
   "cell_type": "markdown",
   "id": "fac03a7e-cd35-44a4-aaff-648a3ccc085d",
   "metadata": {},
   "source": [
    "# Avaliando o Modelo\n",
    "\n",
    "Avaliaremos a acurácia do modelo treinado.\n"
   ]
  },
  {
   "cell_type": "code",
   "execution_count": 20,
   "id": "6c62b538-a12d-48a9-8a53-b58acef98a81",
   "metadata": {},
   "outputs": [
    {
     "name": "stdout",
     "output_type": "stream",
     "text": [
      "Accuracy: 50.00%\n"
     ]
    }
   ],
   "source": [
    "# Avaliar o modelo\n",
    "y_pred = model.predict(X_test)\n",
    "y_pred = np.where(y_pred >= 0, 1, -1)  # Converter previsões para -1 e 1\n",
    "accuracy = accuracy_score(y_test, y_pred)\n",
    "print(f\"Accuracy: {accuracy * 100:.2f}%\")\n"
   ]
  },
  {
   "cell_type": "markdown",
   "id": "e9663936-d7d5-445f-ba7a-7d9629b7899c",
   "metadata": {},
   "source": [
    "# Plotando a Função de Perda e Acurácia\n",
    "\n",
    "Plotamos a função de perda e a acurácia ao longo das épocas de treinamento.\n"
   ]
  },
  {
   "cell_type": "code",
   "execution_count": 21,
   "id": "a3abb55d-ecce-4f94-a05c-c36da08d6b75",
   "metadata": {},
   "outputs": [
    {
     "data": {
      "image/png": "[encoded data removed]",
      "text/plain": [
       "<Figure size 1000x1000 with 2 Axes>"
      ]
     },
     "metadata": {},
     "output_type": "display_data"
    }
   ],
   "source": [
    "# Plotar a função de perda e a acurácia\n",
    "fig, axs = plt.subplots(2, 1, figsize=(10, 10))\n",
    "\n",
    "# Perda\n",
    "axs[0].plot(history.history['loss'], label='Perda de Treinamento')\n",
    "if 'val_loss' in history.history:\n",
    "    axs[0].plot(history.history['val_loss'], label='Perda de Validação')\n",
    "axs[0].set_title('Função de Perda')\n",
    "axs[0].set_xlabel('Épocas')\n",
    "axs[0].set_ylabel('Perda')\n",
    "axs[0].legend()\n",
    "\n",
    "# Acurácia\n",
    "axs[1].plot(history.history['accuracy'], label='Acurácia de Treinamento')\n",
    "if 'val_accuracy' in history.history:\n",
    "    axs[1].plot(history.history['val_accuracy'], label='Acurácia de Validação')\n",
    "axs[1].set_title('Acurácia')\n",
    "axs[1].set_xlabel('Épocas')\n",
    "axs[1].set_ylabel('Acurácia')\n",
    "axs[1].legend()\n",
    "\n",
    "plt.show()"
   ]
  },
  {
   "cell_type": "markdown",
   "id": "13c43d23-8fed-464d-9f68-3eb8e4000e32",
   "metadata": {},
   "source": [
    "# Salvando e Carregando o Modelo\n",
    "\n",
    "Finalmente, salvamos o modelo treinado e, em seguida, mostramos como carregá-lo.\n"
   ]
  },
  {
   "cell_type": "code",
   "execution_count": 18,
   "id": "20c489ce-dc3d-4f12-90f4-7f8ba1813c4f",
   "metadata": {},
   "outputs": [],
   "source": [
    "# Salvar os pesos e o modelo\n",
    "model.save('perceptron_model.h5')\n"
   ]
  },
  {
   "cell_type": "code",
   "execution_count": null,
   "id": "710a9412-90c8-4c3f-b14f-8c27c9f5b747",
   "metadata": {},
   "outputs": [],
   "source": []
  }
 ],
 "metadata": {
  "kernelspec": {
   "display_name": "Python 3 (ipykernel)",
   "language": "python",
   "name": "python3"
  },
  "language_info": {
   "codemirror_mode": {
    "name": "ipython",
    "version": 3
   },
   "file_extension": ".py",
   "mimetype": "text/x-python",
   "name": "python",
   "nbconvert_exporter": "python",
   "pygments_lexer": "ipython3",
   "version": "3.9.19"
  }
 },
 "nbformat": 4,
 "nbformat_minor": 5
}
