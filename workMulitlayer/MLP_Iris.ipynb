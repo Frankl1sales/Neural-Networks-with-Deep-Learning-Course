{
 "cells": [
  {
   "cell_type": "markdown",
   "metadata": {
    "id": "CieBoKNE7u-D"
   },
   "source": [
    "**Passos para criar um perceptron usando TensorFlow:**\n",
    "*   Importar as bibliotecas necessárias\n",
    "*   Carregar e preparar o dataset\n",
    "*   Definir e compilar o modelo do perceptron\n",
    "*   Treinar o modelo\n",
    "*   Avaliar o modelo"
   ]
  },
  {
   "cell_type": "markdown",
   "metadata": {
    "id": "ebqvaVC-6zMQ"
   },
   "source": [
    "Importando as bibliotecas e carregando o dataset: Importamos o TensorFlow para criar o modelo e funções do scikit-learn para manipular o dataset e realizar a padronização."
   ]
  },
  {
   "cell_type": "code",
   "execution_count": 31,
   "metadata": {
    "id": "PplC7Shu05xP"
   },
   "outputs": [],
   "source": [
    "import tensorflow as tf\n",
    "from tensorflow.keras import datasets\n",
    "from tensorflow.keras.models import Sequential\n",
    "from tensorflow.keras.layers import Dense, Flatten\n",
    "\n",
    "\n",
    "import numpy as np\n",
    "import matplotlib.pyplot as plt\n",
    "import pandas as pd\n",
    "\n",
    "from sklearn.model_selection import train_test_split\n",
    "from sklearn.preprocessing import StandardScaler\n",
    "from sklearn.datasets import load_iris\n",
    "#from sklearn.metrics import accuracy_score"
   ]
  },
  {
   "cell_type": "code",
   "execution_count": 32,
   "metadata": {
    "colab": {
     "base_uri": "https://localhost:8080/"
    },
    "id": "8IGwqsKbgsW4",
    "outputId": "7f6a055e-1a80-4407-9266-216ec7513791"
   },
   "outputs": [],
   "source": [
    "# Carregar e preparar o dataset\n",
    "iris = load_iris()\n",
    "X = iris.data\n",
    "y = iris.target\n",
    "\n",
    "# Vamos converter o problema em uma classificação binária (separar classe 0 de 1 e 2)\n",
    "y = (y != 0).astype(int)\n"
   ]
  },
  {
   "cell_type": "code",
   "execution_count": 33,
   "metadata": {
    "colab": {
     "base_uri": "https://localhost:8080/"
    },
    "id": "FHFTomJah912",
    "outputId": "8e2d5fa1-4923-4315-c4ad-d8605bc13508"
   },
   "outputs": [
    {
     "name": "stdout",
     "output_type": "stream",
     "text": [
      "[[-1.47393679  1.20365799 -1.56253475 -1.31260282]\n",
      " [-0.13307079  2.99237573 -1.27600637 -1.04563275]\n",
      " [ 1.08589829  0.08570939  0.38585821  0.28921757]\n",
      " [-1.23014297  0.75647855 -1.2187007  -1.31260282]\n",
      " [-1.7177306   0.30929911 -1.39061772 -1.31260282]\n",
      " [ 0.59831066 -1.25582892  0.72969227  0.95664273]\n",
      " [ 0.72020757  0.30929911  0.44316389  0.4227026 ]\n",
      " [-0.74255534  0.98006827 -1.27600637 -1.31260282]\n",
      " [-0.98634915  1.20365799 -1.33331205 -1.31260282]\n",
      " [-0.74255534  2.32160658 -1.27600637 -1.44608785]\n",
      " [-0.01117388 -0.80864948  0.78699794  0.95664273]\n",
      " [ 0.23261993  0.75647855  0.44316389  0.55618763]\n",
      " [ 1.08589829  0.08570939  0.55777524  0.4227026 ]\n",
      " [-0.49876152  1.87442714 -1.39061772 -1.04563275]\n",
      " [-0.49876152  1.4272477  -1.27600637 -1.31260282]\n",
      " [-0.37686461 -1.47941864 -0.01528151 -0.24472256]\n",
      " [ 0.59831066 -0.58505976  0.78699794  0.4227026 ]\n",
      " [ 0.72020757  0.08570939  1.01622064  0.8231577 ]\n",
      " [ 0.96400139 -0.13788033  0.38585821  0.28921757]\n",
      " [ 1.69538284  1.20365799  1.3600547   1.75755292]\n",
      " [-0.13307079 -0.36147005  0.27124686  0.15573254]\n",
      " [ 2.18297047 -0.13788033  1.64658307  1.22361279]\n",
      " [-0.2549677  -0.13788033  0.44316389  0.4227026 ]\n",
      " [-0.86445224  0.98006827 -1.33331205 -1.31260282]\n",
      " [ 2.30486738 -0.58505976  1.70388875  1.09012776]\n",
      " [-0.01117388 -0.80864948  0.21394119 -0.24472256]\n",
      " [-0.74255534  0.75647855 -1.33331205 -1.31260282]\n",
      " [-0.98634915  0.98006827 -1.39061772 -1.17911778]\n",
      " [-0.86445224  1.65083742 -1.04678367 -1.04563275]\n",
      " [-0.98634915 -2.37377751 -0.12989286 -0.24472256]\n",
      " [ 0.59831066 -0.80864948  0.67238659  0.8231577 ]\n",
      " [-1.23014297  0.75647855 -1.04678367 -1.31260282]\n",
      " [-0.98634915 -0.13788033 -1.2187007  -1.31260282]\n",
      " [-0.86445224  0.53288883 -1.16139502 -0.91214772]\n",
      " [-0.2549677  -0.80864948  0.27124686  0.15573254]\n",
      " [-0.86445224  0.75647855 -1.27600637 -1.31260282]\n",
      " [-0.13307079 -0.13788033  0.27124686  0.02224751]\n",
      " [ 2.30486738  1.65083742  1.70388875  1.35709783]\n",
      " [-1.47393679  0.30929911 -1.33331205 -1.31260282]\n",
      " [ 0.47641375 -0.36147005  0.32855254  0.15573254]\n",
      " [-0.13307079 -1.25582892  0.72969227  1.09012776]\n",
      " [-0.37686461  2.5451963  -1.33331205 -1.31260282]\n",
      " [ 0.23261993 -0.13788033  0.61508092  0.8231577 ]\n",
      " [-0.01117388 -0.80864948  0.78699794  0.95664273]\n",
      " [ 0.23261993 -1.92659808  0.15663551 -0.24472256]\n",
      " [-0.49876152 -0.13788033  0.44316389  0.4227026 ]\n",
      " [ 0.47641375  0.75647855  0.95891497  1.49058286]\n",
      " [-0.37686461 -1.70300836  0.15663551  0.15573254]\n",
      " [-0.49876152  1.87442714 -1.16139502 -1.04563275]\n",
      " [-0.98634915 -1.70300836 -0.24450422 -0.24472256]\n",
      " [ 0.72020757 -0.80864948  0.90160929  0.95664273]\n",
      " [-0.98634915  0.53288883 -1.33331205 -1.31260282]\n",
      " [-0.98634915  0.30929911 -1.4479234  -1.31260282]\n",
      " [-0.37686461 -1.47941864  0.04202416 -0.11123753]\n",
      " [ 1.08589829 -0.13788033  0.72969227  0.68967267]\n",
      " [-1.10824606  0.08570939 -1.27600637 -1.31260282]\n",
      " [-0.01117388 -0.58505976  0.78699794  1.62406789]\n",
      " [-0.98634915  0.75647855 -1.27600637 -1.31260282]\n",
      " [-0.98634915  0.98006827 -1.2187007  -0.77866269]\n",
      " [ 0.11072303  0.30929911  0.61508092  0.8231577 ]\n",
      " [-0.86445224 -1.25582892 -0.41642124 -0.11123753]\n",
      " [ 1.32969211  0.30929911  1.130832    1.49058286]\n",
      " [ 0.23261993 -0.80864948  0.78699794  0.55618763]\n",
      " [ 0.35451684 -1.0322392   1.07352632  0.28921757]\n",
      " [ 2.30486738 -0.13788033  1.3600547   1.49058286]\n",
      " [-0.37686461 -1.25582892  0.15663551  0.15573254]\n",
      " [-1.7177306  -0.36147005 -1.33331205 -1.31260282]\n",
      " [-1.83962751 -0.13788033 -1.50522907 -1.44608785]\n",
      " [ 0.23261993 -1.92659808  0.72969227  0.4227026 ]\n",
      " [ 1.69538284  0.30929911  1.30274902  0.8231577 ]\n",
      " [-1.47393679  0.08570939 -1.27600637 -1.31260282]\n",
      " [-0.86445224  0.98006827 -1.33331205 -1.17911778]\n",
      " [-1.7177306  -0.13788033 -1.39061772 -1.31260282]\n",
      " [ 0.59831066 -1.25582892  0.67238659  0.4227026 ]\n",
      " [ 0.59831066  0.75647855  1.07352632  1.62406789]\n",
      " [-1.47393679  0.75647855 -1.33331205 -1.17911778]\n",
      " [ 1.2077952  -0.13788033  1.01622064  1.22361279]\n",
      " [ 0.59831066  0.53288883  1.30274902  1.75755292]\n",
      " [-1.35203988  0.30929911 -1.39061772 -1.31260282]\n",
      " [ 0.35451684 -0.36147005  0.55777524  0.28921757]\n",
      " [ 0.84210448 -0.58505976  0.50046957  0.4227026 ]\n",
      " [ 0.47641375 -0.58505976  0.61508092  0.8231577 ]\n",
      " [ 1.45158902  0.30929911  0.55777524  0.28921757]\n",
      " [ 0.72020757  0.30929911  0.90160929  1.49058286]\n",
      " [-0.86445224  1.65083742 -1.2187007  -1.31260282]\n",
      " [ 1.32969211  0.08570939  0.95891497  1.22361279]\n",
      " [ 0.11072303 -0.13788033  0.27124686  0.4227026 ]\n",
      " [ 0.84210448 -0.13788033  0.84430362  1.09012776]\n",
      " [-0.13307079 -1.0322392  -0.12989286 -0.24472256]\n",
      " [-0.74255534 -0.80864948  0.09932984  0.28921757]\n",
      " [ 0.35451684 -0.13788033  0.50046957  0.28921757]\n",
      " [-1.5958337  -1.70300836 -1.39061772 -1.17911778]\n",
      " [ 0.96400139 -0.36147005  0.50046957  0.15573254]\n",
      " [-0.37686461 -1.0322392   0.38585821  0.02224751]\n",
      " [-0.62065843  1.4272477  -1.27600637 -1.31260282]\n",
      " [-0.2549677  -0.13788033  0.21394119  0.15573254]\n",
      " [ 1.81727975 -0.36147005  1.47466605  0.8231577 ]\n",
      " [ 1.08589829  0.53288883  1.130832    1.22361279]\n",
      " [-0.86445224  1.4272477  -1.27600637 -1.04563275]\n",
      " [-1.10824606 -1.47941864 -0.24450422 -0.24472256]\n",
      " [ 1.08589829  0.53288883  1.130832    1.75755292]\n",
      " [ 1.69538284 -0.13788033  1.18813767  0.55618763]\n",
      " [-1.10824606  1.20365799 -1.33331205 -1.44608785]\n",
      " [ 1.08589829  0.08570939  1.07352632  1.62406789]\n",
      " [-1.10824606 -0.13788033 -1.33331205 -1.31260282]\n",
      " [ 1.32969211  0.08570939  0.67238659  0.4227026 ]\n",
      " [ 1.93917666 -0.58505976  1.3600547   0.95664273]\n",
      " [ 0.59831066 -0.36147005  1.07352632  0.8231577 ]\n",
      " [-0.13307079 -0.58505976  0.21394119  0.15573254]\n",
      " [ 0.84210448 -0.13788033  1.01622064  0.8231577 ]\n",
      " [ 0.59831066 -1.70300836  0.38585821  0.15573254]\n",
      " [ 0.72020757 -0.36147005  0.32855254  0.15573254]\n",
      " [-0.2549677  -0.58505976  0.67238659  1.09012776]\n",
      " [ 0.11072303 -0.13788033  0.78699794  0.8231577 ]\n",
      " [-0.49876152  0.75647855 -1.16139502 -1.31260282]\n",
      " [ 0.35451684 -0.58505976  0.15663551  0.15573254]\n",
      " [-1.10824606 -1.25582892  0.44316389  0.68967267]\n",
      " [-0.01117388  2.09801686 -1.4479234  -1.31260282]\n",
      " [-0.01117388 -1.0322392   0.15663551  0.02224751]\n",
      " [ 1.57348593 -0.13788033  1.24544335  1.22361279]]\n",
      "oi\n",
      "[[ 0.35451684 -0.58505976  0.55777524  0.02224751]\n",
      " [-0.13307079  1.65083742 -1.16139502 -1.17911778]\n",
      " [ 2.30486738 -1.0322392   1.8185001   1.49058286]\n",
      " [ 0.23261993 -0.36147005  0.44316389  0.4227026 ]\n",
      " [ 1.2077952  -0.58505976  0.61508092  0.28921757]\n",
      " [-0.49876152  0.75647855 -1.27600637 -1.04563275]\n",
      " [-0.2549677  -0.36147005 -0.07258719  0.15573254]\n",
      " [ 1.32969211  0.08570939  0.78699794  1.49058286]\n",
      " [ 0.47641375 -1.92659808  0.44316389  0.4227026 ]\n",
      " [-0.01117388 -0.80864948  0.09932984  0.02224751]\n",
      " [ 0.84210448  0.30929911  0.78699794  1.09012776]\n",
      " [-1.23014297 -0.13788033 -1.33331205 -1.44608785]\n",
      " [-0.37686461  0.98006827 -1.39061772 -1.31260282]\n",
      " [-1.10824606  0.08570939 -1.27600637 -1.44608785]\n",
      " [-0.86445224  1.65083742 -1.27600637 -1.17911778]\n",
      " [ 0.59831066  0.53288883  0.55777524  0.55618763]\n",
      " [ 0.84210448 -0.13788033  1.18813767  1.35709783]\n",
      " [-0.2549677  -1.25582892  0.09932984 -0.11123753]\n",
      " [-0.13307079 -0.58505976  0.44316389  0.15573254]\n",
      " [ 0.72020757 -0.58505976  1.07352632  1.35709783]\n",
      " [-1.35203988  0.30929911 -1.2187007  -1.31260282]\n",
      " [ 0.35451684 -0.13788033  0.67238659  0.8231577 ]\n",
      " [-0.98634915  0.75647855 -1.2187007  -1.04563275]\n",
      " [ 0.72020757 -0.58505976  1.07352632  1.22361279]\n",
      " [ 2.5486612   1.65083742  1.53197172  1.09012776]\n",
      " [ 1.08589829 -0.13788033  0.84430362  1.49058286]\n",
      " [ 1.08589829 -1.25582892  1.18813767  0.8231577 ]\n",
      " [ 1.2077952   0.30929911  1.24544335  1.49058286]\n",
      " [-1.23014297 -0.13788033 -1.33331205 -1.17911778]\n",
      " [-1.23014297  0.08570939 -1.2187007  -1.31260282]]\n"
     ]
    }
   ],
   "source": [
    "# Dividir o dataset em treino e teste\n",
    "X_train, X_test, y_train, y_test = train_test_split(X, y, test_size=0.2, random_state=42)\n",
    "\n",
    "# Padronizar os dados\n",
    "scaler = StandardScaler()\n",
    "X_train = scaler.fit_transform(X_train)\n",
    "X_test = scaler.transform(X_test)\n",
    "\n",
    "print(X_train)\n",
    "print(\"oi\")\n",
    "print(X_test)"
   ]
  },
  {
   "cell_type": "code",
   "execution_count": 34,
   "metadata": {
    "colab": {
     "base_uri": "https://localhost:8080/"
    },
    "id": "MeCdk8266dqd",
    "outputId": "c1af24fc-acb6-4cc0-fd7e-81976bbc4a56"
   },
   "outputs": [],
   "source": [
    "# Criar o modelo de rede neural\n",
    "net = Sequential()\n",
    "# Adicionar a camada de entrada (e primeira camada oculta) com 256 neurônios\n",
    "#net.add(Dense(25, input_shape=(3,), activation='relu'))\n",
    "net.add(Dense(25, input_shape=(X_train.shape[1],), activation='relu'))\n",
    "net.add(Dense(50, activation='relu'))\n",
    "net.add(Dense(1, activation='softmax'))"
   ]
  },
  {
   "cell_type": "code",
   "execution_count": 35,
   "metadata": {
    "colab": {
     "base_uri": "https://localhost:8080/",
     "height": 225
    },
    "id": "0lSwTDhWX4bI",
    "outputId": "925c7f80-fc46-4637-a6d4-90ab4c7b7938"
   },
   "outputs": [
    {
     "name": "stdout",
     "output_type": "stream",
     "text": [
      "Model: \"sequential_4\"\n",
      "_________________________________________________________________\n",
      "Layer (type)                 Output Shape              Param #   \n",
      "=================================================================\n",
      "dense_12 (Dense)             (None, 25)                125       \n",
      "_________________________________________________________________\n",
      "dense_13 (Dense)             (None, 50)                1300      \n",
      "_________________________________________________________________\n",
      "dense_14 (Dense)             (None, 1)                 51        \n",
      "=================================================================\n",
      "Total params: 1,476\n",
      "Trainable params: 1,476\n",
      "Non-trainable params: 0\n",
      "_________________________________________________________________\n"
     ]
    }
   ],
   "source": [
    "# Resumo do modelo\n",
    "net.summary()"
   ]
  },
  {
   "cell_type": "code",
   "execution_count": 36,
   "metadata": {
    "id": "EYedLz2ZZBtP"
   },
   "outputs": [],
   "source": [
    "# Compilar o modelo\n",
    "net.compile(tf.keras.optimizers.Adam(learning_rate=0.01),\n",
    "              loss='binary_crossentropy',\n",
    "              metrics=['accuracy'])"
   ]
  },
  {
   "cell_type": "code",
   "execution_count": 37,
   "metadata": {
    "colab": {
     "base_uri": "https://localhost:8080/"
    },
    "id": "uIP2aa5TV4VC",
    "outputId": "28de9467-d34c-4fe0-d07a-01cfe457ee43"
   },
   "outputs": [
    {
     "name": "stdout",
     "output_type": "stream",
     "text": [
      "Epoch 1/100\n",
      "4/4 [==============================] - 1s 134ms/step - loss: 0.5124 - accuracy: 0.6656 - val_loss: 0.2334 - val_accuracy: 0.6667\n",
      "Epoch 2/100\n",
      "4/4 [==============================] - 0s 56ms/step - loss: 0.2162 - accuracy: 0.6260 - val_loss: 0.0748 - val_accuracy: 0.6667\n",
      "Epoch 3/100\n",
      "4/4 [==============================] - 0s 51ms/step - loss: 0.0662 - accuracy: 0.7021 - val_loss: 0.0229 - val_accuracy: 0.6667\n",
      "Epoch 4/100\n",
      "4/4 [==============================] - 0s 45ms/step - loss: 0.0264 - accuracy: 0.7063 - val_loss: 0.0073 - val_accuracy: 0.6667\n",
      "Epoch 5/100\n",
      "4/4 [==============================] - 0s 48ms/step - loss: 0.0069 - accuracy: 0.6208 - val_loss: 0.0026 - val_accuracy: 0.6667\n",
      "Epoch 6/100\n",
      "4/4 [==============================] - 0s 42ms/step - loss: 0.0025 - accuracy: 0.6667 - val_loss: 0.0011 - val_accuracy: 0.6667\n",
      "Epoch 7/100\n",
      "4/4 [==============================] - 0s 51ms/step - loss: 9.3325e-04 - accuracy: 0.6781 - val_loss: 5.4865e-04 - val_accuracy: 0.6667\n",
      "Epoch 8/100\n",
      "4/4 [==============================] - 0s 43ms/step - loss: 7.0446e-04 - accuracy: 0.6604 - val_loss: 3.2913e-04 - val_accuracy: 0.6667\n",
      "Epoch 9/100\n",
      "4/4 [==============================] - 0s 29ms/step - loss: 2.5237e-04 - accuracy: 0.6469 - val_loss: 2.2920e-04 - val_accuracy: 0.6667\n",
      "Epoch 10/100\n",
      "4/4 [==============================] - 0s 41ms/step - loss: 1.6479e-04 - accuracy: 0.7115 - val_loss: 1.7912e-04 - val_accuracy: 0.6667\n",
      "Epoch 11/100\n",
      "4/4 [==============================] - 0s 59ms/step - loss: 3.1897e-04 - accuracy: 0.6469 - val_loss: 1.5262e-04 - val_accuracy: 0.6667\n",
      "Epoch 12/100\n",
      "4/4 [==============================] - 0s 57ms/step - loss: 1.0956e-04 - accuracy: 0.6958 - val_loss: 1.3607e-04 - val_accuracy: 0.6667\n",
      "Epoch 13/100\n",
      "4/4 [==============================] - 0s 41ms/step - loss: 1.0400e-04 - accuracy: 0.6927 - val_loss: 1.2581e-04 - val_accuracy: 0.6667\n",
      "Epoch 14/100\n",
      "4/4 [==============================] - 0s 52ms/step - loss: 8.5895e-05 - accuracy: 0.6594 - val_loss: 1.1861e-04 - val_accuracy: 0.6667\n",
      "Epoch 15/100\n",
      "4/4 [==============================] - 0s 48ms/step - loss: 7.5347e-05 - accuracy: 0.6458 - val_loss: 1.1325e-04 - val_accuracy: 0.6667\n",
      "Epoch 16/100\n",
      "4/4 [==============================] - 0s 42ms/step - loss: 9.5641e-05 - accuracy: 0.6677 - val_loss: 1.0903e-04 - val_accuracy: 0.6667\n",
      "Epoch 17/100\n",
      "4/4 [==============================] - 0s 49ms/step - loss: 1.2179e-04 - accuracy: 0.6823 - val_loss: 1.0543e-04 - val_accuracy: 0.6667\n",
      "Epoch 18/100\n",
      "4/4 [==============================] - 0s 57ms/step - loss: 7.3677e-05 - accuracy: 0.6271 - val_loss: 1.0266e-04 - val_accuracy: 0.6667\n",
      "Epoch 19/100\n",
      "4/4 [==============================] - 0s 29ms/step - loss: 7.7594e-05 - accuracy: 0.6667 - val_loss: 1.0000e-04 - val_accuracy: 0.6667\n",
      "Epoch 20/100\n",
      "4/4 [==============================] - 0s 44ms/step - loss: 9.5502e-05 - accuracy: 0.6219 - val_loss: 9.7624e-05 - val_accuracy: 0.6667\n",
      "Epoch 21/100\n",
      "4/4 [==============================] - 0s 48ms/step - loss: 6.2339e-05 - accuracy: 0.6823 - val_loss: 9.5564e-05 - val_accuracy: 0.6667\n",
      "Epoch 22/100\n",
      "4/4 [==============================] - 0s 49ms/step - loss: 5.4784e-05 - accuracy: 0.6875 - val_loss: 9.3465e-05 - val_accuracy: 0.6667\n",
      "Epoch 23/100\n",
      "4/4 [==============================] - 0s 55ms/step - loss: 6.1143e-05 - accuracy: 0.6563 - val_loss: 9.1366e-05 - val_accuracy: 0.6667\n",
      "Epoch 24/100\n",
      "4/4 [==============================] - 0s 78ms/step - loss: 6.3708e-05 - accuracy: 0.6333 - val_loss: 8.9461e-05 - val_accuracy: 0.6667\n",
      "Epoch 25/100\n",
      "4/4 [==============================] - 0s 91ms/step - loss: 5.1162e-05 - accuracy: 0.6740 - val_loss: 8.7748e-05 - val_accuracy: 0.6667\n",
      "Epoch 26/100\n",
      "4/4 [==============================] - 0s 55ms/step - loss: 7.5258e-05 - accuracy: 0.6396 - val_loss: 8.5961e-05 - val_accuracy: 0.6667\n",
      "Epoch 27/100\n",
      "4/4 [==============================] - 0s 64ms/step - loss: 5.4159e-05 - accuracy: 0.6583 - val_loss: 8.4239e-05 - val_accuracy: 0.6667\n",
      "Epoch 28/100\n",
      "4/4 [==============================] - 0s 54ms/step - loss: 5.1948e-05 - accuracy: 0.6563 - val_loss: 8.2512e-05 - val_accuracy: 0.6667\n",
      "Epoch 29/100\n",
      "4/4 [==============================] - 0s 44ms/step - loss: 6.6911e-05 - accuracy: 0.6740 - val_loss: 8.0849e-05 - val_accuracy: 0.6667\n",
      "Epoch 30/100\n",
      "4/4 [==============================] - 0s 61ms/step - loss: 5.7344e-05 - accuracy: 0.6469 - val_loss: 7.9217e-05 - val_accuracy: 0.6667\n",
      "Epoch 31/100\n",
      "4/4 [==============================] - 0s 77ms/step - loss: 6.2469e-05 - accuracy: 0.6260 - val_loss: 7.7639e-05 - val_accuracy: 0.6667\n",
      "Epoch 32/100\n",
      "4/4 [==============================] - 0s 47ms/step - loss: 4.9343e-05 - accuracy: 0.6583 - val_loss: 7.6262e-05 - val_accuracy: 0.6667\n",
      "Epoch 33/100\n",
      "4/4 [==============================] - 0s 55ms/step - loss: 6.7923e-05 - accuracy: 0.6646 - val_loss: 7.4764e-05 - val_accuracy: 0.6667\n",
      "Epoch 34/100\n",
      "4/4 [==============================] - 0s 51ms/step - loss: 4.3461e-05 - accuracy: 0.6750 - val_loss: 7.3391e-05 - val_accuracy: 0.6667\n",
      "Epoch 35/100\n",
      "4/4 [==============================] - 0s 52ms/step - loss: 7.1023e-05 - accuracy: 0.6458 - val_loss: 7.1917e-05 - val_accuracy: 0.6667\n",
      "Epoch 36/100\n",
      "4/4 [==============================] - 0s 44ms/step - loss: 5.3791e-05 - accuracy: 0.6521 - val_loss: 7.0674e-05 - val_accuracy: 0.6667\n",
      "Epoch 37/100\n",
      "4/4 [==============================] - 0s 47ms/step - loss: 4.9981e-05 - accuracy: 0.6792 - val_loss: 6.9352e-05 - val_accuracy: 0.6667\n",
      "Epoch 38/100\n",
      "4/4 [==============================] - 0s 46ms/step - loss: 5.7664e-05 - accuracy: 0.6438 - val_loss: 6.8151e-05 - val_accuracy: 0.6667\n",
      "Epoch 39/100\n",
      "4/4 [==============================] - 0s 44ms/step - loss: 3.3523e-05 - accuracy: 0.6771 - val_loss: 6.6979e-05 - val_accuracy: 0.6667\n",
      "Epoch 40/100\n",
      "4/4 [==============================] - 0s 43ms/step - loss: 5.3262e-05 - accuracy: 0.6635 - val_loss: 6.5670e-05 - val_accuracy: 0.6667\n",
      "Epoch 41/100\n",
      "4/4 [==============================] - 0s 50ms/step - loss: 4.0442e-05 - accuracy: 0.6406 - val_loss: 6.4527e-05 - val_accuracy: 0.6667\n",
      "Epoch 42/100\n",
      "4/4 [==============================] - 0s 45ms/step - loss: 4.1382e-05 - accuracy: 0.6813 - val_loss: 6.3400e-05 - val_accuracy: 0.6667\n",
      "Epoch 43/100\n",
      "4/4 [==============================] - 0s 47ms/step - loss: 5.2675e-05 - accuracy: 0.6823 - val_loss: 6.2159e-05 - val_accuracy: 0.6667\n",
      "Epoch 44/100\n",
      "4/4 [==============================] - 0s 46ms/step - loss: 3.6149e-05 - accuracy: 0.6521 - val_loss: 6.1119e-05 - val_accuracy: 0.6667\n",
      "Epoch 45/100\n",
      "4/4 [==============================] - 0s 38ms/step - loss: 4.6107e-05 - accuracy: 0.6771 - val_loss: 6.0070e-05 - val_accuracy: 0.6667\n",
      "Epoch 46/100\n",
      "4/4 [==============================] - 0s 25ms/step - loss: 4.6741e-05 - accuracy: 0.7063 - val_loss: 5.9025e-05 - val_accuracy: 0.6667\n",
      "Epoch 47/100\n",
      "4/4 [==============================] - 0s 55ms/step - loss: 3.8692e-05 - accuracy: 0.7167 - val_loss: 5.7973e-05 - val_accuracy: 0.6667\n",
      "Epoch 48/100\n",
      "4/4 [==============================] - 0s 39ms/step - loss: 5.5535e-05 - accuracy: 0.6677 - val_loss: 5.6905e-05 - val_accuracy: 0.6667\n",
      "Epoch 49/100\n",
      "4/4 [==============================] - 0s 42ms/step - loss: 5.1004e-05 - accuracy: 0.6875 - val_loss: 5.5868e-05 - val_accuracy: 0.6667\n",
      "Epoch 50/100\n",
      "4/4 [==============================] - 0s 33ms/step - loss: 3.4505e-05 - accuracy: 0.6781 - val_loss: 5.4885e-05 - val_accuracy: 0.6667\n",
      "Epoch 51/100\n",
      "4/4 [==============================] - 0s 45ms/step - loss: 5.1564e-05 - accuracy: 0.6573 - val_loss: 5.3944e-05 - val_accuracy: 0.6667\n",
      "Epoch 52/100\n",
      "4/4 [==============================] - 0s 49ms/step - loss: 5.1515e-05 - accuracy: 0.6542 - val_loss: 5.2977e-05 - val_accuracy: 0.6667\n",
      "Epoch 53/100\n",
      "4/4 [==============================] - 0s 41ms/step - loss: 3.7670e-05 - accuracy: 0.6708 - val_loss: 5.2075e-05 - val_accuracy: 0.6667\n",
      "Epoch 54/100\n",
      "4/4 [==============================] - 0s 77ms/step - loss: 3.7351e-05 - accuracy: 0.6167 - val_loss: 5.1239e-05 - val_accuracy: 0.6667\n",
      "Epoch 55/100\n",
      "4/4 [==============================] - 0s 25ms/step - loss: 5.2218e-05 - accuracy: 0.6406 - val_loss: 5.0335e-05 - val_accuracy: 0.6667\n",
      "Epoch 56/100\n",
      "4/4 [==============================] - 0s 45ms/step - loss: 3.7715e-05 - accuracy: 0.6323 - val_loss: 4.9531e-05 - val_accuracy: 0.6667\n",
      "Epoch 57/100\n",
      "4/4 [==============================] - 0s 52ms/step - loss: 3.5751e-05 - accuracy: 0.6510 - val_loss: 4.8704e-05 - val_accuracy: 0.6667\n",
      "Epoch 58/100\n",
      "4/4 [==============================] - 0s 51ms/step - loss: 2.3743e-05 - accuracy: 0.6958 - val_loss: 4.7939e-05 - val_accuracy: 0.6667\n",
      "Epoch 59/100\n",
      "4/4 [==============================] - 0s 31ms/step - loss: 3.1921e-05 - accuracy: 0.6646 - val_loss: 4.7079e-05 - val_accuracy: 0.6667\n",
      "Epoch 60/100\n",
      "4/4 [==============================] - 0s 42ms/step - loss: 3.2865e-05 - accuracy: 0.6510 - val_loss: 4.6330e-05 - val_accuracy: 0.6667\n",
      "Epoch 61/100\n",
      "4/4 [==============================] - 0s 55ms/step - loss: 3.6293e-05 - accuracy: 0.6656 - val_loss: 4.5532e-05 - val_accuracy: 0.6667\n",
      "Epoch 62/100\n",
      "4/4 [==============================] - 0s 36ms/step - loss: 3.1969e-05 - accuracy: 0.6521 - val_loss: 4.4790e-05 - val_accuracy: 0.6667\n",
      "Epoch 63/100\n",
      "4/4 [==============================] - 0s 45ms/step - loss: 3.2942e-05 - accuracy: 0.6531 - val_loss: 4.4068e-05 - val_accuracy: 0.6667\n",
      "Epoch 64/100\n",
      "4/4 [==============================] - 0s 39ms/step - loss: 3.5613e-05 - accuracy: 0.6719 - val_loss: 4.3414e-05 - val_accuracy: 0.6667\n",
      "Epoch 65/100\n",
      "4/4 [==============================] - 0s 41ms/step - loss: 4.2126e-05 - accuracy: 0.6552 - val_loss: 4.2726e-05 - val_accuracy: 0.6667\n",
      "Epoch 66/100\n",
      "4/4 [==============================] - 0s 25ms/step - loss: 3.2259e-05 - accuracy: 0.6656 - val_loss: 4.2127e-05 - val_accuracy: 0.6667\n",
      "Epoch 67/100\n",
      "4/4 [==============================] - 0s 37ms/step - loss: 2.9070e-05 - accuracy: 0.6594 - val_loss: 4.1467e-05 - val_accuracy: 0.6667\n",
      "Epoch 68/100\n",
      "4/4 [==============================] - 0s 38ms/step - loss: 2.8225e-05 - accuracy: 0.6781 - val_loss: 4.0781e-05 - val_accuracy: 0.6667\n",
      "Epoch 69/100\n",
      "4/4 [==============================] - 0s 40ms/step - loss: 2.9796e-05 - accuracy: 0.6625 - val_loss: 4.0217e-05 - val_accuracy: 0.6667\n",
      "Epoch 70/100\n",
      "4/4 [==============================] - 0s 29ms/step - loss: 1.9676e-05 - accuracy: 0.6521 - val_loss: 3.9636e-05 - val_accuracy: 0.6667\n",
      "Epoch 71/100\n",
      "4/4 [==============================] - 0s 24ms/step - loss: 2.7433e-05 - accuracy: 0.6760 - val_loss: 3.9037e-05 - val_accuracy: 0.6667\n",
      "Epoch 72/100\n",
      "4/4 [==============================] - 0s 30ms/step - loss: 2.3563e-05 - accuracy: 0.6458 - val_loss: 3.8430e-05 - val_accuracy: 0.6667\n",
      "Epoch 73/100\n",
      "4/4 [==============================] - 0s 41ms/step - loss: 2.7389e-05 - accuracy: 0.6198 - val_loss: 3.7822e-05 - val_accuracy: 0.6667\n",
      "Epoch 74/100\n",
      "4/4 [==============================] - 0s 42ms/step - loss: 2.5327e-05 - accuracy: 0.6427 - val_loss: 3.7260e-05 - val_accuracy: 0.6667\n",
      "Epoch 75/100\n",
      "4/4 [==============================] - 0s 44ms/step - loss: 3.2410e-05 - accuracy: 0.6792 - val_loss: 3.6637e-05 - val_accuracy: 0.6667\n",
      "Epoch 76/100\n",
      "4/4 [==============================] - 0s 38ms/step - loss: 2.5456e-05 - accuracy: 0.6750 - val_loss: 3.6120e-05 - val_accuracy: 0.6667\n",
      "Epoch 77/100\n",
      "4/4 [==============================] - 0s 43ms/step - loss: 2.2454e-05 - accuracy: 0.6542 - val_loss: 3.5638e-05 - val_accuracy: 0.6667\n",
      "Epoch 78/100\n",
      "4/4 [==============================] - 0s 47ms/step - loss: 2.2762e-05 - accuracy: 0.6135 - val_loss: 3.5131e-05 - val_accuracy: 0.6667\n",
      "Epoch 79/100\n",
      "4/4 [==============================] - 0s 45ms/step - loss: 2.2041e-05 - accuracy: 0.6823 - val_loss: 3.4638e-05 - val_accuracy: 0.6667\n",
      "Epoch 80/100\n",
      "4/4 [==============================] - 0s 43ms/step - loss: 2.7314e-05 - accuracy: 0.7156 - val_loss: 3.4211e-05 - val_accuracy: 0.6667\n",
      "Epoch 81/100\n",
      "4/4 [==============================] - 0s 24ms/step - loss: 1.3442e-05 - accuracy: 0.7323 - val_loss: 3.3792e-05 - val_accuracy: 0.6667\n",
      "Epoch 82/100\n",
      "4/4 [==============================] - 0s 24ms/step - loss: 2.5275e-05 - accuracy: 0.6688 - val_loss: 3.3290e-05 - val_accuracy: 0.6667\n",
      "Epoch 83/100\n",
      "4/4 [==============================] - 0s 25ms/step - loss: 3.1626e-05 - accuracy: 0.6833 - val_loss: 3.2818e-05 - val_accuracy: 0.6667\n",
      "Epoch 84/100\n",
      "4/4 [==============================] - 0s 25ms/step - loss: 2.0787e-05 - accuracy: 0.6896 - val_loss: 3.2393e-05 - val_accuracy: 0.6667\n",
      "Epoch 85/100\n",
      "4/4 [==============================] - 0s 26ms/step - loss: 2.4311e-05 - accuracy: 0.6521 - val_loss: 3.1967e-05 - val_accuracy: 0.6667\n",
      "Epoch 86/100\n",
      "4/4 [==============================] - 0s 30ms/step - loss: 1.7778e-05 - accuracy: 0.6958 - val_loss: 3.1527e-05 - val_accuracy: 0.6667\n",
      "Epoch 87/100\n",
      "4/4 [==============================] - 0s 46ms/step - loss: 2.0958e-05 - accuracy: 0.6938 - val_loss: 3.1101e-05 - val_accuracy: 0.6667\n",
      "Epoch 88/100\n",
      "4/4 [==============================] - 0s 40ms/step - loss: 1.6029e-05 - accuracy: 0.6510 - val_loss: 3.0710e-05 - val_accuracy: 0.6667\n",
      "Epoch 89/100\n",
      "4/4 [==============================] - 0s 43ms/step - loss: 2.3997e-05 - accuracy: 0.6865 - val_loss: 3.0275e-05 - val_accuracy: 0.6667\n",
      "Epoch 90/100\n",
      "4/4 [==============================] - 0s 39ms/step - loss: 2.6794e-05 - accuracy: 0.6875 - val_loss: 2.9828e-05 - val_accuracy: 0.6667\n",
      "Epoch 91/100\n",
      "4/4 [==============================] - 0s 24ms/step - loss: 2.1467e-05 - accuracy: 0.6542 - val_loss: 2.9433e-05 - val_accuracy: 0.6667\n",
      "Epoch 92/100\n",
      "4/4 [==============================] - 0s 36ms/step - loss: 1.1821e-05 - accuracy: 0.6479 - val_loss: 2.9066e-05 - val_accuracy: 0.6667\n",
      "Epoch 93/100\n",
      "4/4 [==============================] - 0s 39ms/step - loss: 1.9951e-05 - accuracy: 0.6760 - val_loss: 2.8686e-05 - val_accuracy: 0.6667\n",
      "Epoch 94/100\n",
      "4/4 [==============================] - 0s 38ms/step - loss: 1.6918e-05 - accuracy: 0.6344 - val_loss: 2.8329e-05 - val_accuracy: 0.6667\n",
      "Epoch 95/100\n",
      "4/4 [==============================] - 0s 37ms/step - loss: 1.5342e-05 - accuracy: 0.6531 - val_loss: 2.7965e-05 - val_accuracy: 0.6667\n",
      "Epoch 96/100\n",
      "4/4 [==============================] - 0s 48ms/step - loss: 1.7507e-05 - accuracy: 0.6500 - val_loss: 2.7607e-05 - val_accuracy: 0.6667\n",
      "Epoch 97/100\n",
      "4/4 [==============================] - 0s 46ms/step - loss: 2.1557e-05 - accuracy: 0.6792 - val_loss: 2.7199e-05 - val_accuracy: 0.6667\n",
      "Epoch 98/100\n",
      "4/4 [==============================] - 0s 47ms/step - loss: 1.5179e-05 - accuracy: 0.6531 - val_loss: 2.6875e-05 - val_accuracy: 0.6667\n",
      "Epoch 99/100\n",
      "4/4 [==============================] - 0s 43ms/step - loss: 1.9690e-05 - accuracy: 0.5958 - val_loss: 2.6516e-05 - val_accuracy: 0.6667\n",
      "Epoch 100/100\n",
      "4/4 [==============================] - 0s 51ms/step - loss: 1.6739e-05 - accuracy: 0.6854 - val_loss: 2.6157e-05 - val_accuracy: 0.6667\n"
     ]
    }
   ],
   "source": [
    "# Treinar o modelo\n",
    "history = net.fit(X_train, y_train, epochs=100, validation_data=(X_test, y_test))"
   ]
  },
  {
   "cell_type": "code",
   "execution_count": 38,
   "metadata": {
    "colab": {
     "base_uri": "https://localhost:8080/"
    },
    "id": "WafG6OwNaLFE",
    "outputId": "499b768c-6ffe-428f-bf90-73c375ddb113"
   },
   "outputs": [
    {
     "name": "stdout",
     "output_type": "stream",
     "text": [
      "1/1 [==============================] - 0s 136ms/step - loss: 2.6157e-05 - accuracy: 0.6667\n",
      "Test accuracy: 0.6667\n"
     ]
    }
   ],
   "source": [
    "# Avaliar o modelo\n",
    "test_loss, test_acc = net.evaluate(X_test, y_test)\n",
    "print(f\"Test accuracy: {test_acc:.4f}\")"
   ]
  },
  {
   "cell_type": "code",
   "execution_count": 39,
   "metadata": {
    "colab": {
     "base_uri": "https://localhost:8080/",
     "height": 413
    },
    "id": "YY8mSUdgaWK3",
    "outputId": "bb3cc56d-649a-4964-8c20-ec76251b779d"
   },
   "outputs": [
    {
     "data": {
      "image/png": "[encoded data removed]",
      "text/plain": [
       "<Figure size 1200x400 with 2 Axes>"
      ]
     },
     "metadata": {},
     "output_type": "display_data"
    }
   ],
   "source": [
    "# Plotar as curvas de perda e acurácia\n",
    "plt.figure(figsize=(12, 4))\n",
    "\n",
    "plt.subplot(1, 2, 1)\n",
    "plt.plot(history.history['loss'], label='train_loss')\n",
    "plt.plot(history.history['val_loss'], label='val_loss')\n",
    "plt.title('Perda durante o treinamento e validação')\n",
    "plt.xlabel('Épocas')\n",
    "plt.ylabel('Perda')\n",
    "plt.legend()\n",
    "\n",
    "plt.subplot(1, 2, 2)\n",
    "plt.plot(history.history['accuracy'], label='train_accuracy')\n",
    "plt.plot(history.history['val_accuracy'], label='val_accuracy')\n",
    "plt.title('Acurácia durante o treinamento e validação')\n",
    "plt.xlabel('Épocas')\n",
    "plt.ylabel('Acurácia')\n",
    "plt.legend()\n",
    "\n",
    "plt.show()"
   ]
  },
  {
   "cell_type": "code",
   "execution_count": 40,
   "metadata": {
    "id": "QmyAXKALT5Df"
   },
   "outputs": [],
   "source": [
    "# Salvar o modelo treinado\n",
    "net.save(\"petroleo.keras\")"
   ]
  },
  {
   "cell_type": "markdown",
   "metadata": {
    "id": "3ZgmeISe263f"
   },
   "source": [
    "Exercícios\n",
    "¶\n",
    "1) Altere o valor do hiperparâmetro num_hiddens e veja como esse hiperparâmetro influencia seus resultados. Determine o melhor valor deste hiperparâmetro, mantendo todos os outros constantes.\n",
    "\n",
    "2) Experimente adicionar uma camada oculta adicional para ver como isso afeta os resultados.\n",
    "\n",
    "3) Como mudar a taxa de aprendizado altera seus resultados? Corrigindo a arquitetura do modelo e outros hiperparâmetros (incluindo o número de épocas), qual taxa de aprendizado oferece os melhores resultados?\n",
    "\n",
    "4) Qual é o melhor resultado que você pode obter otimizando todos os hiperparâmetros (taxa de aprendizagem, número de épocas, número de camadas ocultas, número de unidades ocultas por camada) em conjunto?\n",
    "\n",
    "5) Descreva por que é muito mais difícil lidar com vários hiperparâmetros.\n",
    "\n",
    "6) Qual é a estratégia mais inteligente que você pode imaginar para estruturar uma pesquisa em vários hiperparâmetros?"
   ]
  }
 ],
 "metadata": {
  "colab": {
   "provenance": []
  },
  "kernelspec": {
   "display_name": "Python 3 (ipykernel)",
   "language": "python",
   "name": "python3"
  },
  "language_info": {
   "codemirror_mode": {
    "name": "ipython",
    "version": 3
   },
   "file_extension": ".py",
   "mimetype": "text/x-python",
   "name": "python",
   "nbconvert_exporter": "python",
   "pygments_lexer": "ipython3",
   "version": "3.9.19"
  }
 },
 "nbformat": 4,
 "nbformat_minor": 4
}
