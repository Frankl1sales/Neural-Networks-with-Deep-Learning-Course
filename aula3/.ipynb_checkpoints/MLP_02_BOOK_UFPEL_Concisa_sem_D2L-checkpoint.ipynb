{
 "cells": [
  {
   "cell_type": "markdown",
   "metadata": {
    "id": "CieBoKNE7u-D"
   },
   "source": [
    "**Passos para criar um perceptron usando TensorFlow:**\n",
    "*   Importar as bibliotecas necessárias\n",
    "*   Carregar e preparar o dataset\n",
    "*   Definir e compilar o modelo do perceptron\n",
    "*   Treinar o modelo\n",
    "*   Avaliar o modelo"
   ]
  },
  {
   "cell_type": "markdown",
   "metadata": {
    "id": "ebqvaVC-6zMQ"
   },
   "source": [
    "Importando as bibliotecas e carregando o dataset: Importamos o TensorFlow para criar o modelo e funções do scikit-learn para manipular o dataset e realizar a padronização."
   ]
  },
  {
   "cell_type": "code",
   "execution_count": 260,
   "metadata": {
    "id": "PplC7Shu05xP"
   },
   "outputs": [],
   "source": [
    "import tensorflow as tf\n",
    "from tensorflow.keras import datasets\n",
    "from tensorflow.keras.models import Sequential\n",
    "from tensorflow.keras.layers import Dense, Dropout\n",
    "from tensorflow.keras.regularizers import l2\n",
    "import numpy as np\n",
    "import matplotlib.pyplot as plt\n",
    "import pandas as pd\n",
    "from sklearn.model_selection import train_test_split\n",
    "from sklearn.preprocessing import StandardScaler\n",
    "from sklearn.metrics import accuracy_score"
   ]
  },
  {
   "cell_type": "code",
   "execution_count": 261,
   "metadata": {},
   "outputs": [
    {
     "name": "stdout",
     "output_type": "stream",
     "text": [
      "        x1      x2       x3  d\n",
      "0  -0.6508  0.1097   4.0009 -1\n",
      "1  -1.4492  0.8896   4.4005 -1\n",
      "2   2.0850  0.6876  12.0710 -1\n",
      "3   0.2626  1.1476   7.7985  1\n",
      "4   0.6418  1.0234   7.0427  1\n",
      "5   0.2569  0.6730   8.3265 -1\n",
      "6   1.1155  0.6043   7.4446  1\n",
      "7   0.0914  0.3399   7.0677 -1\n",
      "8   0.0121  0.5256   4.6316  1\n",
      "9  -0.0429  0.4660   5.4323  1\n",
      "10  0.4340  0.6870   8.2287 -1\n",
      "11  0.2735  1.0287   7.1934  1\n",
      "12  0.4839  0.4851   7.4850 -1\n",
      "13  0.4089 -0.1267   5.5019 -1\n",
      "14  1.4391  0.1614   8.5843 -1\n",
      "15 -0.9115 -0.1973   2.1962 -1\n",
      "16  0.3654  1.0475   7.4858  1\n",
      "17  0.2144  0.7515   7.1699  1\n",
      "18  0.2013  1.0014   6.5489  1\n",
      "19  0.6483  0.2183   5.8991  1\n",
      "20 -0.1147  0.2242   7.2435 -1\n",
      "21 -0.7970  0.8795   3.8762  1\n",
      "22 -1.0625  0.6366   2.4707  1\n",
      "23  0.5307  0.1285   5.6883  1\n",
      "24 -1.2200  0.7777   1.7252  1\n",
      "25  0.3957  0.1076   5.6623 -1\n",
      "26 -0.1013  0.5989   7.1812 -1\n",
      "27  2.4482  0.9455  11.2095  1\n",
      "28  2.0149  0.6192  10.9263 -1\n",
      "29  0.2012  0.2611   5.4631  1\n"
     ]
    }
   ],
   "source": [
    "# Carregar o arquivo XLS com os dados\n",
    "file_path = 'Tabela_Perceptron.xls'\n",
    "data_xls = pd.read_excel(file_path)\n",
    "\n",
    "# Exibir os dados para verificação\n",
    "print(data_xls.to_string())\n",
    "\n",
    "# Separar os dados em features (X) e labels (y)\n",
    "X = data_xls[['x1', 'x2', 'x3']].values\n",
    "y = data_xls['d'].values"
   ]
  },
  {
   "cell_type": "code",
   "execution_count": 262,
   "metadata": {},
   "outputs": [
    {
     "name": "stdout",
     "output_type": "stream",
     "text": [
      "x1    0\n",
      "x2    0\n",
      "x3    0\n",
      "d     0\n",
      "dtype: int64\n"
     ]
    }
   ],
   "source": [
    "# Verificar se há dados faltantes\n",
    "print(data_xls.isnull().sum())\n"
   ]
  },
  {
   "cell_type": "code",
   "execution_count": 263,
   "metadata": {},
   "outputs": [
    {
     "name": "stdout",
     "output_type": "stream",
     "text": [
      "              x1         x2         x3          d\n",
      "count  30.000000  30.000000  30.000000  30.000000\n",
      "mean    0.272497   0.556747   6.531860   0.066667\n",
      "std     0.918388   0.366427   2.449843   1.014833\n",
      "min    -1.449200  -0.197300   1.725200  -1.000000\n",
      "25%    -0.086700   0.233425   5.440000  -1.000000\n",
      "50%     0.259750   0.611750   7.055200   1.000000\n",
      "75%     0.519000   0.854050   7.485600   1.000000\n",
      "max     2.448200   1.147600  12.071000   1.000000\n"
     ]
    }
   ],
   "source": [
    "# Análise estatística básica\n",
    "print(data_xls.describe())\n"
   ]
  },
  {
   "cell_type": "code",
   "execution_count": 264,
   "metadata": {},
   "outputs": [],
   "source": [
    "# Converter valores específicos para 0\n",
    "y = np.where(y == -1, 0, y)\n",
    "\n",
    "# Dividir o dataset em treino e teste\n",
    "X_train, X_test, y_train, y_test = train_test_split(X, y, test_size=0.2, random_state=42)\n",
    "\n",
    "# Normalizar os dados usando o StandardScaler\n",
    "scaler = StandardScaler()\n",
    "X_train = scaler.fit_transform(X_train)\n",
    "X_test = scaler.transform(X_test)"
   ]
  },
  {
   "cell_type": "code",
   "execution_count": 265,
   "metadata": {
    "id": "MeCdk8266dqd"
   },
   "outputs": [],
   "source": [
    "# Criar o modelo de rede neural\n",
    "net = Sequential()\n",
    "\n",
    "# Adicionar camadas ao modelo\n",
    "net.add(Dense(512, activation='relu', input_shape=(X_train.shape[1],), kernel_regularizer=l2(0.01)))  # Camada oculta com regularização L2\n",
    "net.add(Dropout(0.5))  # Adicionar Dropout para evitar overfitting\n",
    "net.add(Dense(256, activation='relu', kernel_regularizer=l2(0.01)))  # Camada oculta adicional com menos neurônios e regularização L2\n",
    "net.add(Dense(1, activation='sigmoid'))  # Camada de saída para classificação binária\n"
   ]
  },
  {
   "cell_type": "code",
   "execution_count": 266,
   "metadata": {
    "colab": {
     "base_uri": "https://localhost:8080/",
     "height": 225
    },
    "id": "0lSwTDhWX4bI",
    "outputId": "69e72eba-cac8-4434-ee9a-d7f5668c9ca2"
   },
   "outputs": [
    {
     "name": "stdout",
     "output_type": "stream",
     "text": [
      "Model: \"sequential_27\"\n",
      "_________________________________________________________________\n",
      "Layer (type)                 Output Shape              Param #   \n",
      "=================================================================\n",
      "dense_62 (Dense)             (None, 512)               2048      \n",
      "_________________________________________________________________\n",
      "dropout_11 (Dropout)         (None, 512)               0         \n",
      "_________________________________________________________________\n",
      "dense_63 (Dense)             (None, 256)               131328    \n",
      "_________________________________________________________________\n",
      "dense_64 (Dense)             (None, 1)                 257       \n",
      "=================================================================\n",
      "Total params: 133,633\n",
      "Trainable params: 133,633\n",
      "Non-trainable params: 0\n",
      "_________________________________________________________________\n"
     ]
    }
   ],
   "source": [
    "# Resumo do modelo\n",
    "net.summary()"
   ]
  },
  {
   "cell_type": "code",
   "execution_count": 267,
   "metadata": {
    "id": "EYedLz2ZZBtP"
   },
   "outputs": [],
   "source": [
    "# Compilar o modelo\n",
    "net.compile(optimizer=tf.keras.optimizers.Adam(learning_rate=0.001),\n",
    "            loss='binary_crossentropy',\n",
    "            metrics=['accuracy'])"
   ]
  },
  {
   "cell_type": "code",
   "execution_count": 268,
   "metadata": {
    "colab": {
     "base_uri": "https://localhost:8080/"
    },
    "id": "uIP2aa5TV4VC",
    "outputId": "3d01acd2-bc17-4991-e9e9-cdc1235176c3"
   },
   "outputs": [
    {
     "name": "stdout",
     "output_type": "stream",
     "text": [
      "Epoch 1/20\n",
      "1/1 [==============================] - 1s 839ms/step - loss: 4.1543 - accuracy: 0.5833 - val_loss: 4.0503 - val_accuracy: 0.5000\n",
      "Epoch 2/20\n",
      "1/1 [==============================] - 0s 183ms/step - loss: 4.0108 - accuracy: 0.8333 - val_loss: 3.9658 - val_accuracy: 0.5000\n",
      "Epoch 3/20\n",
      "1/1 [==============================] - 0s 147ms/step - loss: 3.8880 - accuracy: 0.8333 - val_loss: 3.8836 - val_accuracy: 0.5000\n",
      "Epoch 4/20\n",
      "1/1 [==============================] - 0s 125ms/step - loss: 3.7854 - accuracy: 0.8333 - val_loss: 3.8039 - val_accuracy: 0.5000\n",
      "Epoch 5/20\n",
      "1/1 [==============================] - 0s 153ms/step - loss: 3.6630 - accuracy: 0.8333 - val_loss: 3.7259 - val_accuracy: 0.5000\n",
      "Epoch 6/20\n",
      "1/1 [==============================] - 0s 153ms/step - loss: 3.5568 - accuracy: 0.8333 - val_loss: 3.6493 - val_accuracy: 0.5000\n",
      "Epoch 7/20\n",
      "1/1 [==============================] - 0s 104ms/step - loss: 3.4452 - accuracy: 0.8333 - val_loss: 3.5744 - val_accuracy: 0.5000\n",
      "Epoch 8/20\n",
      "1/1 [==============================] - 0s 101ms/step - loss: 3.3415 - accuracy: 0.8333 - val_loss: 3.5009 - val_accuracy: 0.5000\n",
      "Epoch 9/20\n",
      "1/1 [==============================] - 0s 107ms/step - loss: 3.2488 - accuracy: 0.8333 - val_loss: 3.4276 - val_accuracy: 0.5000\n",
      "Epoch 10/20\n",
      "1/1 [==============================] - 0s 108ms/step - loss: 3.1502 - accuracy: 0.8333 - val_loss: 3.3543 - val_accuracy: 0.5000\n",
      "Epoch 11/20\n",
      "1/1 [==============================] - 0s 115ms/step - loss: 3.0495 - accuracy: 0.8333 - val_loss: 3.2827 - val_accuracy: 0.5000\n",
      "Epoch 12/20\n",
      "1/1 [==============================] - 0s 120ms/step - loss: 2.9523 - accuracy: 0.8333 - val_loss: 3.2124 - val_accuracy: 0.5000\n",
      "Epoch 13/20\n",
      "1/1 [==============================] - 0s 110ms/step - loss: 2.8586 - accuracy: 0.8333 - val_loss: 3.1431 - val_accuracy: 0.5000\n",
      "Epoch 14/20\n",
      "1/1 [==============================] - 0s 120ms/step - loss: 2.7746 - accuracy: 0.8333 - val_loss: 3.0731 - val_accuracy: 0.5000\n",
      "Epoch 15/20\n",
      "1/1 [==============================] - 0s 109ms/step - loss: 2.6906 - accuracy: 0.8333 - val_loss: 3.0025 - val_accuracy: 0.5000\n",
      "Epoch 16/20\n",
      "1/1 [==============================] - 0s 116ms/step - loss: 2.6059 - accuracy: 0.8333 - val_loss: 2.9325 - val_accuracy: 0.5000\n",
      "Epoch 17/20\n",
      "1/1 [==============================] - 0s 101ms/step - loss: 2.5273 - accuracy: 0.8333 - val_loss: 2.8625 - val_accuracy: 0.5000\n",
      "Epoch 18/20\n",
      "1/1 [==============================] - 0s 137ms/step - loss: 2.4445 - accuracy: 0.8333 - val_loss: 2.7914 - val_accuracy: 0.5000\n",
      "Epoch 19/20\n",
      "1/1 [==============================] - 0s 118ms/step - loss: 2.3815 - accuracy: 0.8333 - val_loss: 2.7194 - val_accuracy: 0.5000\n",
      "Epoch 20/20\n",
      "1/1 [==============================] - 0s 135ms/step - loss: 2.2971 - accuracy: 0.8333 - val_loss: 2.6472 - val_accuracy: 0.5000\n"
     ]
    }
   ],
   "source": [
    "# Treinar o modelo\n",
    "history = net.fit(X_train, y_train, epochs=20, validation_data=(X_test, y_test))"
   ]
  },
  {
   "cell_type": "code",
   "execution_count": 269,
   "metadata": {
    "colab": {
     "base_uri": "https://localhost:8080/"
    },
    "id": "WafG6OwNaLFE",
    "outputId": "4e8abab6-ca13-4627-9a9e-62c049c5baa2"
   },
   "outputs": [
    {
     "name": "stdout",
     "output_type": "stream",
     "text": [
      "1/1 [==============================] - 0s 40ms/step - loss: 2.6472 - accuracy: 0.5000\n",
      "Test accuracy: 0.5000\n"
     ]
    }
   ],
   "source": [
    "# Avaliar o modelo\n",
    "test_loss, test_acc = net.evaluate(X_test, y_test)\n",
    "print(f\"Test accuracy: {test_acc:.4f}\")"
   ]
  },
  {
   "cell_type": "code",
   "execution_count": 270,
   "metadata": {
    "colab": {
     "base_uri": "https://localhost:8080/",
     "height": 413
    },
    "id": "YY8mSUdgaWK3",
    "outputId": "1a695115-3858-4d22-9352-c0240696f361"
   },
   "outputs": [
    {
     "data": {
      "image/png": "[encoded data removed]",
      "text/plain": [
       "<Figure size 1200x400 with 2 Axes>"
      ]
     },
     "metadata": {},
     "output_type": "display_data"
    }
   ],
   "source": [
    "# Plotar as curvas de perda e acurácia\n",
    "plt.figure(figsize=(12, 4))\n",
    "\n",
    "plt.subplot(1, 2, 1)\n",
    "plt.plot(history.history['loss'], label='train_loss')\n",
    "plt.plot(history.history['val_loss'], label='val_loss')\n",
    "plt.title('Perda durante o treinamento e validação')\n",
    "plt.xlabel('Épocas')\n",
    "plt.ylabel('Perda')\n",
    "plt.legend()\n",
    "\n",
    "plt.subplot(1, 2, 2)\n",
    "plt.plot(history.history['accuracy'], label='train_accuracy')\n",
    "plt.plot(history.history['val_accuracy'], label='val_accuracy')\n",
    "plt.title('Acurácia durante o treinamento e validação')\n",
    "plt.xlabel('Épocas')\n",
    "plt.ylabel('Acurácia')\n",
    "plt.legend()\n",
    "\n",
    "plt.show()"
   ]
  },
  {
   "cell_type": "code",
   "execution_count": 271,
   "metadata": {
    "id": "QmyAXKALT5Df"
   },
   "outputs": [],
   "source": [
    "# Salvar o modelo treinado\n",
    "net.save(\"meu_code.keras\")"
   ]
  },
  {
   "cell_type": "markdown",
   "metadata": {
    "id": "3ZgmeISe263f"
   },
   "source": [
    "Exercícios\n",
    "¶\n",
    "1) Altere o valor do hiperparâmetro num_hiddens e veja como esse hiperparâmetro influencia seus resultados. Determine o melhor valor deste hiperparâmetro, mantendo todos os outros constantes.\n",
    "\n",
    "2) Experimente adicionar uma camada oculta adicional para ver como isso afeta os resultados.\n",
    "\n",
    "3) Como mudar a taxa de aprendizado altera seus resultados? Corrigindo a arquitetura do modelo e outros hiperparâmetros (incluindo o número de épocas), qual taxa de aprendizado oferece os melhores resultados?\n",
    "\n",
    "4) Qual é o melhor resultado que você pode obter otimizando todos os hiperparâmetros (taxa de aprendizagem, número de épocas, número de camadas ocultas, número de unidades ocultas por camada) em conjunto?\n",
    "\n",
    "5) Descreva por que é muito mais difícil lidar com vários hiperparâmetros.\n",
    "\n",
    "6) Qual é a estratégia mais inteligente que você pode imaginar para estruturar uma pesquisa em vários hiperparâmetros?"
   ]
  }
 ],
 "metadata": {
  "colab": {
   "provenance": []
  },
  "kernelspec": {
   "display_name": "Python 3 (ipykernel)",
   "language": "python",
   "name": "python3"
  },
  "language_info": {
   "codemirror_mode": {
    "name": "ipython",
    "version": 3
   },
   "file_extension": ".py",
   "mimetype": "text/x-python",
   "name": "python",
   "nbconvert_exporter": "python",
   "pygments_lexer": "ipython3",
   "version": "3.9.19"
  }
 },
 "nbformat": 4,
 "nbformat_minor": 4
}
