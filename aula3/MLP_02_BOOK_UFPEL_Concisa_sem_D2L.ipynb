{
 "cells": [
  {
   "cell_type": "markdown",
   "metadata": {
    "id": "CieBoKNE7u-D"
   },
   "source": [
    "**Passos para criar um perceptron usando TensorFlow:**\n",
    "*   Importar as bibliotecas necessárias\n",
    "*   Carregar e preparar o dataset\n",
    "*   Definir e compilar o modelo do perceptron\n",
    "*   Treinar o modelo\n",
    "*   Avaliar o modelo"
   ]
  },
  {
   "cell_type": "markdown",
   "metadata": {
    "id": "ebqvaVC-6zMQ"
   },
   "source": [
    "Importando as bibliotecas e carregando o dataset: Importamos o TensorFlow para criar o modelo e funções do scikit-learn para manipular o dataset e realizar a padronização."
   ]
  },
  {
   "cell_type": "code",
   "execution_count": 14,
   "metadata": {
    "id": "PplC7Shu05xP"
   },
   "outputs": [],
   "source": [
    "import tensorflow as tf\n",
    "from tensorflow.keras import datasets\n",
    "from tensorflow.keras.models import Sequential\n",
    "from tensorflow.keras.layers import Dense, Dropout\n",
    "from tensorflow.keras.regularizers import l2\n",
    "import numpy as np\n",
    "import matplotlib.pyplot as plt\n",
    "import pandas as pd\n",
    "from sklearn.model_selection import train_test_split\n",
    "from sklearn.preprocessing import StandardScaler\n",
    "from sklearn.metrics import accuracy_score"
   ]
  },
  {
   "cell_type": "code",
   "execution_count": 15,
   "metadata": {},
   "outputs": [
    {
     "name": "stdout",
     "output_type": "stream",
     "text": [
      "        x1      x2       x3  d\n",
      "0  -0.6508  0.1097   4.0009 -1\n",
      "1  -1.4492  0.8896   4.4005 -1\n",
      "2   2.0850  0.6876  12.0710 -1\n",
      "3   0.2626  1.1476   7.7985  1\n",
      "4   0.6418  1.0234   7.0427  1\n",
      "5   0.2569  0.6730   8.3265 -1\n",
      "6   1.1155  0.6043   7.4446  1\n",
      "7   0.0914  0.3399   7.0677 -1\n",
      "8   0.0121  0.5256   4.6316  1\n",
      "9  -0.0429  0.4660   5.4323  1\n",
      "10  0.4340  0.6870   8.2287 -1\n",
      "11  0.2735  1.0287   7.1934  1\n",
      "12  0.4839  0.4851   7.4850 -1\n",
      "13  0.4089 -0.1267   5.5019 -1\n",
      "14  1.4391  0.1614   8.5843 -1\n",
      "15 -0.9115 -0.1973   2.1962 -1\n",
      "16  0.3654  1.0475   7.4858  1\n",
      "17  0.2144  0.7515   7.1699  1\n",
      "18  0.2013  1.0014   6.5489  1\n",
      "19  0.6483  0.2183   5.8991  1\n",
      "20 -0.1147  0.2242   7.2435 -1\n",
      "21 -0.7970  0.8795   3.8762  1\n",
      "22 -1.0625  0.6366   2.4707  1\n",
      "23  0.5307  0.1285   5.6883  1\n",
      "24 -1.2200  0.7777   1.7252  1\n",
      "25  0.3957  0.1076   5.6623 -1\n",
      "26 -0.1013  0.5989   7.1812 -1\n",
      "27  2.4482  0.9455  11.2095  1\n",
      "28  2.0149  0.6192  10.9263 -1\n",
      "29  0.2012  0.2611   5.4631  1\n"
     ]
    }
   ],
   "source": [
    "# Carregar o arquivo XLS com os dados\n",
    "file_path = 'Tabela_Perceptron.xls'\n",
    "data_xls = pd.read_excel(file_path)\n",
    "\n",
    "# Exibir os dados para verificação\n",
    "print(data_xls.to_string())\n",
    "\n",
    "# Separar os dados em features (X) e labels (y)\n",
    "X = data_xls[['x1', 'x2', 'x3']].values\n",
    "y = data_xls['d'].values"
   ]
  },
  {
   "cell_type": "code",
   "execution_count": 16,
   "metadata": {},
   "outputs": [
    {
     "name": "stdout",
     "output_type": "stream",
     "text": [
      "x1    0\n",
      "x2    0\n",
      "x3    0\n",
      "d     0\n",
      "dtype: int64\n"
     ]
    }
   ],
   "source": [
    "# Verificar se há dados faltantes\n",
    "print(data_xls.isnull().sum())\n"
   ]
  },
  {
   "cell_type": "code",
   "execution_count": 17,
   "metadata": {},
   "outputs": [
    {
     "name": "stdout",
     "output_type": "stream",
     "text": [
      "              x1         x2         x3          d\n",
      "count  30.000000  30.000000  30.000000  30.000000\n",
      "mean    0.272497   0.556747   6.531860   0.066667\n",
      "std     0.918388   0.366427   2.449843   1.014833\n",
      "min    -1.449200  -0.197300   1.725200  -1.000000\n",
      "25%    -0.086700   0.233425   5.440000  -1.000000\n",
      "50%     0.259750   0.611750   7.055200   1.000000\n",
      "75%     0.519000   0.854050   7.485600   1.000000\n",
      "max     2.448200   1.147600  12.071000   1.000000\n"
     ]
    }
   ],
   "source": [
    "# Análise estatística básica\n",
    "print(data_xls.describe())\n"
   ]
  },
  {
   "cell_type": "code",
   "execution_count": 18,
   "metadata": {},
   "outputs": [],
   "source": [
    "# Converter valores específicos para 0\n",
    "y = np.where(y == -1, 0, y)\n",
    "\n",
    "# Dividir o dataset em treino e teste\n",
    "X_train, X_test, y_train, y_test = train_test_split(X, y, test_size=0.2, random_state=42)\n",
    "\n",
    "# Normalizar os dados usando o StandardScaler\n",
    "scaler = StandardScaler()\n",
    "X_train = scaler.fit_transform(X_train)\n",
    "X_test = scaler.transform(X_test)"
   ]
  },
  {
   "cell_type": "code",
   "execution_count": 30,
   "metadata": {
    "id": "MeCdk8266dqd"
   },
   "outputs": [],
   "source": [
    "# Criar o modelo de rede neural\n",
    "net = Sequential()\n",
    "\n",
    "net.add(Dense(512, activation='relu', input_shape=(X_train.shape[1],), kernel_regularizer=l2(0.01)))  # Camada oculta com regularização L2\n",
    "net.add(Dropout(0.5))  # Adicionar Dropout para evitar overfitting\n",
    "net.add(Dense(1024, activation='relu'))  # Camada oculta adicional\n",
    "net.add(Dense(1, activation='softmax'))  # Camada de saída para classificação binária"
   ]
  },
  {
   "cell_type": "code",
   "execution_count": 31,
   "metadata": {
    "colab": {
     "base_uri": "https://localhost:8080/",
     "height": 225
    },
    "id": "0lSwTDhWX4bI",
    "outputId": "69e72eba-cac8-4434-ee9a-d7f5668c9ca2"
   },
   "outputs": [
    {
     "name": "stdout",
     "output_type": "stream",
     "text": [
      "Model: \"sequential_4\"\n",
      "_________________________________________________________________\n",
      "Layer (type)                 Output Shape              Param #   \n",
      "=================================================================\n",
      "dense_9 (Dense)              (None, 512)               2048      \n",
      "_________________________________________________________________\n",
      "dropout_3 (Dropout)          (None, 512)               0         \n",
      "_________________________________________________________________\n",
      "dense_10 (Dense)             (None, 1024)              525312    \n",
      "_________________________________________________________________\n",
      "dense_11 (Dense)             (None, 1)                 1025      \n",
      "=================================================================\n",
      "Total params: 528,385\n",
      "Trainable params: 528,385\n",
      "Non-trainable params: 0\n",
      "_________________________________________________________________\n"
     ]
    }
   ],
   "source": [
    "# Resumo do modelo\n",
    "net.summary()"
   ]
  },
  {
   "cell_type": "code",
   "execution_count": 34,
   "metadata": {
    "id": "EYedLz2ZZBtP"
   },
   "outputs": [],
   "source": [
    "# Compilar o modelo\n",
    "net.compile(optimizer=tf.keras.optimizers.Adam(learning_rate=0.01),\n",
    "            loss='binary_crossentropy',\n",
    "            metrics=['accuracy'])"
   ]
  },
  {
   "cell_type": "code",
   "execution_count": 36,
   "metadata": {
    "colab": {
     "base_uri": "https://localhost:8080/"
    },
    "id": "uIP2aa5TV4VC",
    "outputId": "3d01acd2-bc17-4991-e9e9-cdc1235176c3"
   },
   "outputs": [
    {
     "name": "stdout",
     "output_type": "stream",
     "text": [
      "Epoch 1/100\n",
      "1/1 [==============================] - 0s 262ms/step - loss: 0.1298 - accuracy: 0.4583 - val_loss: 4.1653 - val_accuracy: 0.8333\n",
      "Epoch 2/100\n",
      "1/1 [==============================] - 0s 177ms/step - loss: 0.2105 - accuracy: 0.4583 - val_loss: 4.2521 - val_accuracy: 0.8333\n",
      "Epoch 3/100\n",
      "1/1 [==============================] - 0s 232ms/step - loss: 0.1997 - accuracy: 0.4583 - val_loss: 4.0567 - val_accuracy: 0.8333\n",
      "Epoch 4/100\n",
      "1/1 [==============================] - 0s 211ms/step - loss: 0.0652 - accuracy: 0.4583 - val_loss: 3.8679 - val_accuracy: 0.8333\n",
      "Epoch 5/100\n",
      "1/1 [==============================] - 0s 195ms/step - loss: 0.1348 - accuracy: 0.4583 - val_loss: 3.4328 - val_accuracy: 0.8333\n",
      "Epoch 6/100\n",
      "1/1 [==============================] - 0s 192ms/step - loss: 0.2228 - accuracy: 0.4583 - val_loss: 3.1382 - val_accuracy: 0.8333\n",
      "Epoch 7/100\n",
      "1/1 [==============================] - 0s 215ms/step - loss: 0.2889 - accuracy: 0.4583 - val_loss: 2.8597 - val_accuracy: 0.8333\n",
      "Epoch 8/100\n",
      "1/1 [==============================] - 0s 210ms/step - loss: 0.2031 - accuracy: 0.4583 - val_loss: 2.7424 - val_accuracy: 0.8333\n",
      "Epoch 9/100\n",
      "1/1 [==============================] - 0s 210ms/step - loss: 0.1805 - accuracy: 0.4583 - val_loss: 2.5588 - val_accuracy: 0.8333\n",
      "Epoch 10/100\n",
      "1/1 [==============================] - 0s 152ms/step - loss: 0.0826 - accuracy: 0.4583 - val_loss: 2.3289 - val_accuracy: 0.8333\n",
      "Epoch 11/100\n",
      "1/1 [==============================] - 0s 178ms/step - loss: 0.1836 - accuracy: 0.4583 - val_loss: 2.0149 - val_accuracy: 0.8333\n",
      "Epoch 12/100\n",
      "1/1 [==============================] - 0s 103ms/step - loss: 0.1347 - accuracy: 0.4583 - val_loss: 1.7117 - val_accuracy: 0.8333\n",
      "Epoch 13/100\n",
      "1/1 [==============================] - 0s 95ms/step - loss: 0.1026 - accuracy: 0.4583 - val_loss: 1.3941 - val_accuracy: 0.8333\n",
      "Epoch 14/100\n",
      "1/1 [==============================] - 0s 205ms/step - loss: 0.1473 - accuracy: 0.4583 - val_loss: 1.1220 - val_accuracy: 0.8333\n",
      "Epoch 15/100\n",
      "1/1 [==============================] - 0s 252ms/step - loss: 0.3142 - accuracy: 0.4583 - val_loss: 1.2107 - val_accuracy: 0.8333\n",
      "Epoch 16/100\n",
      "1/1 [==============================] - 0s 179ms/step - loss: 0.0963 - accuracy: 0.4583 - val_loss: 1.3917 - val_accuracy: 0.8333\n",
      "Epoch 17/100\n",
      "1/1 [==============================] - 0s 182ms/step - loss: 0.1128 - accuracy: 0.4583 - val_loss: 1.5487 - val_accuracy: 0.8333\n",
      "Epoch 18/100\n",
      "1/1 [==============================] - 0s 140ms/step - loss: 0.1178 - accuracy: 0.4583 - val_loss: 1.7729 - val_accuracy: 0.8333\n",
      "Epoch 19/100\n",
      "1/1 [==============================] - 0s 139ms/step - loss: 0.0951 - accuracy: 0.4583 - val_loss: 2.0708 - val_accuracy: 0.8333\n",
      "Epoch 20/100\n",
      "1/1 [==============================] - 0s 180ms/step - loss: 0.0679 - accuracy: 0.4583 - val_loss: 2.3662 - val_accuracy: 0.8333\n",
      "Epoch 21/100\n",
      "1/1 [==============================] - 0s 191ms/step - loss: 0.1041 - accuracy: 0.4583 - val_loss: 2.6614 - val_accuracy: 0.8333\n",
      "Epoch 22/100\n",
      "1/1 [==============================] - 0s 190ms/step - loss: 0.0900 - accuracy: 0.4583 - val_loss: 2.9730 - val_accuracy: 0.8333\n",
      "Epoch 23/100\n",
      "1/1 [==============================] - 0s 128ms/step - loss: 0.0764 - accuracy: 0.4583 - val_loss: 3.2875 - val_accuracy: 0.8333\n",
      "Epoch 24/100\n",
      "1/1 [==============================] - 0s 145ms/step - loss: 0.0825 - accuracy: 0.4583 - val_loss: 3.6055 - val_accuracy: 0.8333\n",
      "Epoch 25/100\n",
      "1/1 [==============================] - 0s 110ms/step - loss: 0.3488 - accuracy: 0.4583 - val_loss: 3.7541 - val_accuracy: 0.8333\n",
      "Epoch 26/100\n",
      "1/1 [==============================] - 0s 148ms/step - loss: 0.0848 - accuracy: 0.4583 - val_loss: 3.7942 - val_accuracy: 0.8333\n",
      "Epoch 27/100\n",
      "1/1 [==============================] - 0s 117ms/step - loss: 0.0654 - accuracy: 0.4583 - val_loss: 3.8212 - val_accuracy: 0.8333\n",
      "Epoch 28/100\n",
      "1/1 [==============================] - 0s 97ms/step - loss: 0.0614 - accuracy: 0.4583 - val_loss: 3.8588 - val_accuracy: 0.8333\n",
      "Epoch 29/100\n",
      "1/1 [==============================] - 0s 183ms/step - loss: 0.0608 - accuracy: 0.4583 - val_loss: 3.9010 - val_accuracy: 0.8333\n",
      "Epoch 30/100\n",
      "1/1 [==============================] - 0s 169ms/step - loss: 0.0892 - accuracy: 0.4583 - val_loss: 3.9496 - val_accuracy: 0.8333\n",
      "Epoch 31/100\n",
      "1/1 [==============================] - 0s 102ms/step - loss: 0.1294 - accuracy: 0.4583 - val_loss: 4.0499 - val_accuracy: 0.8333\n",
      "Epoch 32/100\n",
      "1/1 [==============================] - 0s 138ms/step - loss: 0.1121 - accuracy: 0.4583 - val_loss: 4.1215 - val_accuracy: 0.8333\n",
      "Epoch 33/100\n",
      "1/1 [==============================] - 0s 162ms/step - loss: 0.0602 - accuracy: 0.4583 - val_loss: 4.2785 - val_accuracy: 0.8333\n",
      "Epoch 34/100\n",
      "1/1 [==============================] - 0s 142ms/step - loss: 0.0874 - accuracy: 0.4583 - val_loss: 4.2072 - val_accuracy: 0.8333\n",
      "Epoch 35/100\n",
      "1/1 [==============================] - 0s 141ms/step - loss: 0.1433 - accuracy: 0.4583 - val_loss: 3.6215 - val_accuracy: 0.8333\n",
      "Epoch 36/100\n",
      "1/1 [==============================] - 0s 149ms/step - loss: 0.0595 - accuracy: 0.4583 - val_loss: 3.1459 - val_accuracy: 0.8333\n",
      "Epoch 37/100\n",
      "1/1 [==============================] - 0s 148ms/step - loss: 0.0582 - accuracy: 0.4583 - val_loss: 2.7407 - val_accuracy: 0.8333\n",
      "Epoch 38/100\n",
      "1/1 [==============================] - 0s 163ms/step - loss: 0.1905 - accuracy: 0.4583 - val_loss: 2.2561 - val_accuracy: 0.8333\n",
      "Epoch 39/100\n",
      "1/1 [==============================] - 0s 173ms/step - loss: 0.3157 - accuracy: 0.4583 - val_loss: 1.9144 - val_accuracy: 0.8333\n",
      "Epoch 40/100\n",
      "1/1 [==============================] - 0s 173ms/step - loss: 0.0759 - accuracy: 0.4583 - val_loss: 1.6362 - val_accuracy: 0.8333\n",
      "Epoch 41/100\n",
      "1/1 [==============================] - 0s 210ms/step - loss: 0.1523 - accuracy: 0.4583 - val_loss: 1.2692 - val_accuracy: 0.8333\n",
      "Epoch 42/100\n",
      "1/1 [==============================] - 0s 118ms/step - loss: 0.2488 - accuracy: 0.4583 - val_loss: 1.1027 - val_accuracy: 0.8333\n",
      "Epoch 43/100\n",
      "1/1 [==============================] - 0s 91ms/step - loss: 0.1432 - accuracy: 0.4583 - val_loss: 1.0800 - val_accuracy: 0.8333\n",
      "Epoch 44/100\n",
      "1/1 [==============================] - 0s 191ms/step - loss: 0.0671 - accuracy: 0.4583 - val_loss: 1.1668 - val_accuracy: 0.8333\n",
      "Epoch 45/100\n",
      "1/1 [==============================] - 0s 337ms/step - loss: 0.1334 - accuracy: 0.4583 - val_loss: 1.2586 - val_accuracy: 0.8333\n",
      "Epoch 46/100\n",
      "1/1 [==============================] - 0s 174ms/step - loss: 0.1127 - accuracy: 0.4583 - val_loss: 1.2595 - val_accuracy: 0.8333\n",
      "Epoch 47/100\n",
      "1/1 [==============================] - 0s 148ms/step - loss: 0.1334 - accuracy: 0.4583 - val_loss: 1.1587 - val_accuracy: 0.8333\n",
      "Epoch 48/100\n",
      "1/1 [==============================] - 0s 110ms/step - loss: 0.1275 - accuracy: 0.4583 - val_loss: 1.0226 - val_accuracy: 0.8333\n",
      "Epoch 49/100\n",
      "1/1 [==============================] - 0s 126ms/step - loss: 0.1051 - accuracy: 0.4583 - val_loss: 0.9535 - val_accuracy: 0.8333\n",
      "Epoch 50/100\n",
      "1/1 [==============================] - 0s 103ms/step - loss: 0.0922 - accuracy: 0.4583 - val_loss: 0.9373 - val_accuracy: 0.8333\n",
      "Epoch 51/100\n",
      "1/1 [==============================] - 0s 144ms/step - loss: 0.1605 - accuracy: 0.4583 - val_loss: 0.9704 - val_accuracy: 0.8333\n",
      "Epoch 52/100\n",
      "1/1 [==============================] - 0s 121ms/step - loss: 0.1028 - accuracy: 0.4583 - val_loss: 1.0216 - val_accuracy: 0.8333\n",
      "Epoch 53/100\n",
      "1/1 [==============================] - 0s 177ms/step - loss: 0.1238 - accuracy: 0.4583 - val_loss: 1.1246 - val_accuracy: 0.8333\n",
      "Epoch 54/100\n",
      "1/1 [==============================] - 0s 148ms/step - loss: 0.1175 - accuracy: 0.4583 - val_loss: 1.2371 - val_accuracy: 0.8333\n",
      "Epoch 55/100\n",
      "1/1 [==============================] - 0s 134ms/step - loss: 0.1337 - accuracy: 0.4583 - val_loss: 1.3674 - val_accuracy: 0.8333\n",
      "Epoch 56/100\n",
      "1/1 [==============================] - 0s 105ms/step - loss: 0.0722 - accuracy: 0.4583 - val_loss: 1.4908 - val_accuracy: 0.8333\n",
      "Epoch 57/100\n",
      "1/1 [==============================] - 0s 124ms/step - loss: 0.0935 - accuracy: 0.4583 - val_loss: 1.5612 - val_accuracy: 0.8333\n",
      "Epoch 58/100\n",
      "1/1 [==============================] - 0s 100ms/step - loss: 0.0851 - accuracy: 0.4583 - val_loss: 1.6092 - val_accuracy: 0.8333\n",
      "Epoch 59/100\n",
      "1/1 [==============================] - 0s 117ms/step - loss: 0.0711 - accuracy: 0.4583 - val_loss: 1.6529 - val_accuracy: 0.8333\n",
      "Epoch 60/100\n",
      "1/1 [==============================] - 0s 112ms/step - loss: 0.0919 - accuracy: 0.4583 - val_loss: 1.5927 - val_accuracy: 0.8333\n",
      "Epoch 61/100\n",
      "1/1 [==============================] - 0s 106ms/step - loss: 0.0735 - accuracy: 0.4583 - val_loss: 1.5424 - val_accuracy: 0.8333\n",
      "Epoch 62/100\n",
      "1/1 [==============================] - 0s 152ms/step - loss: 0.0582 - accuracy: 0.4583 - val_loss: 1.4782 - val_accuracy: 0.8333\n",
      "Epoch 63/100\n",
      "1/1 [==============================] - 0s 129ms/step - loss: 0.1334 - accuracy: 0.4583 - val_loss: 1.2957 - val_accuracy: 0.8333\n",
      "Epoch 64/100\n",
      "1/1 [==============================] - 0s 123ms/step - loss: 0.0664 - accuracy: 0.4583 - val_loss: 1.1428 - val_accuracy: 0.8333\n",
      "Epoch 65/100\n",
      "1/1 [==============================] - 0s 152ms/step - loss: 0.0665 - accuracy: 0.4583 - val_loss: 1.0001 - val_accuracy: 0.8333\n",
      "Epoch 66/100\n",
      "1/1 [==============================] - 0s 135ms/step - loss: 0.1297 - accuracy: 0.4583 - val_loss: 0.7364 - val_accuracy: 0.8333\n",
      "Epoch 67/100\n",
      "1/1 [==============================] - 0s 188ms/step - loss: 0.0867 - accuracy: 0.4583 - val_loss: 0.5783 - val_accuracy: 0.8333\n",
      "Epoch 68/100\n",
      "1/1 [==============================] - 0s 154ms/step - loss: 0.0801 - accuracy: 0.4583 - val_loss: 0.4988 - val_accuracy: 0.8333\n",
      "Epoch 69/100\n",
      "1/1 [==============================] - 0s 178ms/step - loss: 0.0599 - accuracy: 0.4583 - val_loss: 0.4661 - val_accuracy: 0.8333\n",
      "Epoch 70/100\n",
      "1/1 [==============================] - 0s 192ms/step - loss: 0.0640 - accuracy: 0.4583 - val_loss: 0.4485 - val_accuracy: 0.8333\n",
      "Epoch 71/100\n",
      "1/1 [==============================] - 0s 176ms/step - loss: 0.0546 - accuracy: 0.4583 - val_loss: 0.4295 - val_accuracy: 0.8333\n",
      "Epoch 72/100\n",
      "1/1 [==============================] - 0s 145ms/step - loss: 0.1509 - accuracy: 0.4583 - val_loss: 0.4079 - val_accuracy: 0.8333\n",
      "Epoch 73/100\n",
      "1/1 [==============================] - 0s 172ms/step - loss: 0.0773 - accuracy: 0.4583 - val_loss: 0.4326 - val_accuracy: 0.8333\n",
      "Epoch 74/100\n",
      "1/1 [==============================] - 0s 238ms/step - loss: 0.0550 - accuracy: 0.4583 - val_loss: 0.4421 - val_accuracy: 0.8333\n",
      "Epoch 75/100\n",
      "1/1 [==============================] - 0s 217ms/step - loss: 0.0531 - accuracy: 0.4583 - val_loss: 0.4495 - val_accuracy: 0.8333\n",
      "Epoch 76/100\n",
      "1/1 [==============================] - 0s 249ms/step - loss: 0.0557 - accuracy: 0.4583 - val_loss: 0.4986 - val_accuracy: 0.8333\n",
      "Epoch 77/100\n",
      "1/1 [==============================] - 0s 133ms/step - loss: 0.1806 - accuracy: 0.4583 - val_loss: 0.6240 - val_accuracy: 0.8333\n",
      "Epoch 78/100\n",
      "1/1 [==============================] - 0s 198ms/step - loss: 0.0548 - accuracy: 0.4583 - val_loss: 0.8272 - val_accuracy: 0.8333\n",
      "Epoch 79/100\n",
      "1/1 [==============================] - 0s 182ms/step - loss: 0.0569 - accuracy: 0.4583 - val_loss: 1.0463 - val_accuracy: 0.8333\n",
      "Epoch 80/100\n",
      "1/1 [==============================] - 0s 236ms/step - loss: 0.0679 - accuracy: 0.4583 - val_loss: 1.1495 - val_accuracy: 0.8333\n",
      "Epoch 81/100\n",
      "1/1 [==============================] - 0s 251ms/step - loss: 0.0568 - accuracy: 0.4583 - val_loss: 1.2088 - val_accuracy: 0.8333\n",
      "Epoch 82/100\n",
      "1/1 [==============================] - 0s 139ms/step - loss: 0.0605 - accuracy: 0.4583 - val_loss: 1.2001 - val_accuracy: 0.8333\n",
      "Epoch 83/100\n",
      "1/1 [==============================] - 0s 190ms/step - loss: 0.0506 - accuracy: 0.4583 - val_loss: 1.1775 - val_accuracy: 0.8333\n",
      "Epoch 84/100\n",
      "1/1 [==============================] - 0s 222ms/step - loss: 0.1078 - accuracy: 0.4583 - val_loss: 0.9600 - val_accuracy: 0.8333\n",
      "Epoch 85/100\n",
      "1/1 [==============================] - 0s 198ms/step - loss: 0.0665 - accuracy: 0.4583 - val_loss: 0.7508 - val_accuracy: 0.8333\n",
      "Epoch 86/100\n",
      "1/1 [==============================] - 0s 228ms/step - loss: 0.1195 - accuracy: 0.4583 - val_loss: 0.5985 - val_accuracy: 0.8333\n",
      "Epoch 87/100\n",
      "1/1 [==============================] - 0s 189ms/step - loss: 0.0659 - accuracy: 0.4583 - val_loss: 0.5027 - val_accuracy: 0.8333\n",
      "Epoch 88/100\n",
      "1/1 [==============================] - 0s 158ms/step - loss: 0.0510 - accuracy: 0.4583 - val_loss: 0.4463 - val_accuracy: 0.8333\n",
      "Epoch 89/100\n",
      "1/1 [==============================] - 0s 209ms/step - loss: 0.0834 - accuracy: 0.4583 - val_loss: 0.3545 - val_accuracy: 0.8333\n",
      "Epoch 90/100\n",
      "1/1 [==============================] - 0s 157ms/step - loss: 0.0577 - accuracy: 0.4583 - val_loss: 0.3106 - val_accuracy: 0.8333\n",
      "Epoch 91/100\n",
      "1/1 [==============================] - 0s 122ms/step - loss: 0.0590 - accuracy: 0.4583 - val_loss: 0.2712 - val_accuracy: 0.8333\n",
      "Epoch 92/100\n",
      "1/1 [==============================] - 0s 126ms/step - loss: 0.0483 - accuracy: 0.4583 - val_loss: 0.2353 - val_accuracy: 0.8333\n",
      "Epoch 93/100\n",
      "1/1 [==============================] - 0s 288ms/step - loss: 0.0665 - accuracy: 0.4583 - val_loss: 0.2299 - val_accuracy: 0.8333\n",
      "Epoch 94/100\n",
      "1/1 [==============================] - 0s 287ms/step - loss: 0.0605 - accuracy: 0.4583 - val_loss: 0.2638 - val_accuracy: 0.8333\n",
      "Epoch 95/100\n",
      "1/1 [==============================] - 0s 215ms/step - loss: 0.0607 - accuracy: 0.4583 - val_loss: 0.3911 - val_accuracy: 0.8333\n",
      "Epoch 96/100\n",
      "1/1 [==============================] - 0s 183ms/step - loss: 0.0583 - accuracy: 0.4583 - val_loss: 0.4227 - val_accuracy: 0.8333\n",
      "Epoch 97/100\n",
      "1/1 [==============================] - 0s 164ms/step - loss: 0.0475 - accuracy: 0.4583 - val_loss: 0.4526 - val_accuracy: 0.8333\n",
      "Epoch 98/100\n",
      "1/1 [==============================] - 0s 176ms/step - loss: 0.0822 - accuracy: 0.4583 - val_loss: 0.6533 - val_accuracy: 0.8333\n",
      "Epoch 99/100\n",
      "1/1 [==============================] - 0s 196ms/step - loss: 0.0721 - accuracy: 0.4583 - val_loss: 1.2115 - val_accuracy: 0.8333\n",
      "Epoch 100/100\n",
      "1/1 [==============================] - 0s 211ms/step - loss: 0.0605 - accuracy: 0.4583 - val_loss: 1.6538 - val_accuracy: 0.8333\n"
     ]
    }
   ],
   "source": [
    "# Treinar o modelo\n",
    "history = net.fit(X_train, y_train, epochs=100, validation_data=(X_test, y_test))"
   ]
  },
  {
   "cell_type": "code",
   "execution_count": 37,
   "metadata": {
    "colab": {
     "base_uri": "https://localhost:8080/"
    },
    "id": "WafG6OwNaLFE",
    "outputId": "4e8abab6-ca13-4627-9a9e-62c049c5baa2"
   },
   "outputs": [
    {
     "name": "stdout",
     "output_type": "stream",
     "text": [
      "1/1 [==============================] - 0s 97ms/step - loss: 1.6538 - accuracy: 0.8333\n",
      "Test accuracy: 0.8333\n"
     ]
    }
   ],
   "source": [
    "# Avaliar o modelo\n",
    "test_loss, test_acc = net.evaluate(X_test, y_test)\n",
    "print(f\"Test accuracy: {test_acc:.4f}\")"
   ]
  },
  {
   "cell_type": "code",
   "execution_count": 24,
   "metadata": {
    "colab": {
     "base_uri": "https://localhost:8080/",
     "height": 413
    },
    "id": "YY8mSUdgaWK3",
    "outputId": "1a695115-3858-4d22-9352-c0240696f361"
   },
   "outputs": [
    {
     "data": {
      "image/png": "[encoded data removed]",
      "text/plain": [
       "<Figure size 1200x400 with 2 Axes>"
      ]
     },
     "metadata": {},
     "output_type": "display_data"
    }
   ],
   "source": [
    "# Plotar as curvas de perda e acurácia\n",
    "plt.figure(figsize=(12, 4))\n",
    "\n",
    "plt.subplot(1, 2, 1)\n",
    "plt.plot(history.history['loss'], label='train_loss')\n",
    "plt.plot(history.history['val_loss'], label='val_loss')\n",
    "plt.title('Perda durante o treinamento e validação')\n",
    "plt.xlabel('Épocas')\n",
    "plt.ylabel('Perda')\n",
    "plt.legend()\n",
    "\n",
    "plt.subplot(1, 2, 2)\n",
    "plt.plot(history.history['accuracy'], label='train_accuracy')\n",
    "plt.plot(history.history['val_accuracy'], label='val_accuracy')\n",
    "plt.title('Acurácia durante o treinamento e validação')\n",
    "plt.xlabel('Épocas')\n",
    "plt.ylabel('Acurácia')\n",
    "plt.legend()\n",
    "\n",
    "plt.show()"
   ]
  },
  {
   "cell_type": "code",
   "execution_count": 25,
   "metadata": {
    "id": "QmyAXKALT5Df"
   },
   "outputs": [],
   "source": [
    "# Salvar o modelo treinado\n",
    "net.save(\"meu_code.keras\")"
   ]
  },
  {
   "cell_type": "markdown",
   "metadata": {
    "id": "3ZgmeISe263f"
   },
   "source": [
    "Exercícios\n",
    "¶\n",
    "1) Altere o valor do hiperparâmetro num_hiddens e veja como esse hiperparâmetro influencia seus resultados. Determine o melhor valor deste hiperparâmetro, mantendo todos os outros constantes.\n",
    "\n",
    "2) Experimente adicionar uma camada oculta adicional para ver como isso afeta os resultados.\n",
    "\n",
    "3) Como mudar a taxa de aprendizado altera seus resultados? Corrigindo a arquitetura do modelo e outros hiperparâmetros (incluindo o número de épocas), qual taxa de aprendizado oferece os melhores resultados?\n",
    "\n",
    "4) Qual é o melhor resultado que você pode obter otimizando todos os hiperparâmetros (taxa de aprendizagem, número de épocas, número de camadas ocultas, número de unidades ocultas por camada) em conjunto?\n",
    "\n",
    "5) Descreva por que é muito mais difícil lidar com vários hiperparâmetros.\n",
    "\n",
    "6) Qual é a estratégia mais inteligente que você pode imaginar para estruturar uma pesquisa em vários hiperparâmetros?"
   ]
  }
 ],
 "metadata": {
  "colab": {
   "provenance": []
  },
  "kernelspec": {
   "display_name": "Python 3 (ipykernel)",
   "language": "python",
   "name": "python3"
  },
  "language_info": {
   "codemirror_mode": {
    "name": "ipython",
    "version": 3
   },
   "file_extension": ".py",
   "mimetype": "text/x-python",
   "name": "python",
   "nbconvert_exporter": "python",
   "pygments_lexer": "ipython3",
   "version": "3.9.19"
  }
 },
 "nbformat": 4,
 "nbformat_minor": 4
}
